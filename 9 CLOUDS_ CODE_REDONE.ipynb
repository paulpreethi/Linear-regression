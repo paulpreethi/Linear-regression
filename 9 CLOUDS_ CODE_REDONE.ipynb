{
 "cells": [
  {
   "cell_type": "code",
   "execution_count": 1,
   "metadata": {},
   "outputs": [],
   "source": [
    "%matplotlib inline\n",
    "import os\n",
    "import xarray as xr\n",
    "import numpy as np\n",
    "import matplotlib.pyplot as plt\n",
    "import cartopy.crs as ccrs\n",
    "import cartopy\n",
    "import glob\n",
    "import math\n",
    "from scipy.stats.mstats import linregress\n",
    "from cartopy.mpl.ticker import LongitudeFormatter, LatitudeFormatter"
   ]
  },
  {
   "cell_type": "code",
   "execution_count": 2,
   "metadata": {},
   "outputs": [],
   "source": [
    "files=sorted(glob.glob('/home/z5241410/Desktop/UNSW/CERES_data/FluxByCld_CERES/Cloud_data/CERES_FluxByCldTyp_*.nc'))\n",
    "DS1=xr.open_mfdataset(files,combine='nested',concat_dim='time')"
   ]
  },
  {
   "cell_type": "code",
   "execution_count": 3,
   "metadata": {},
   "outputs": [],
   "source": [
    "lat=DS1.lat\n",
    "lon=DS1.lon\n",
    "time=DS1.time"
   ]
  },
  {
   "cell_type": "code",
   "execution_count": 4,
   "metadata": {},
   "outputs": [],
   "source": [
    "wt = np.cos(np.deg2rad(lat))\n",
    "wt1=np.mean(wt)\n",
    "Ds1=(DS1*wt)/wt1\n",
    "ds1=Ds1.sel(time=slice('2002-07-15','2019-12-15'),lat=slice(-30,30))"
   ]
  },
  {
   "cell_type": "code",
   "execution_count": 5,
   "metadata": {},
   "outputs": [],
   "source": [
    "def take_anom(arg):\n",
    "    anom=(arg.groupby('time.month'))-(arg.groupby('time.month').mean('time'))\n",
    "    return(anom)"
   ]
  },
  {
   "cell_type": "code",
   "execution_count": 6,
   "metadata": {},
   "outputs": [],
   "source": [
    "def linear_regression(x,y):\n",
    "    slope,intercept,rvalue,pvalue,stderr=linregress(x,y)\n",
    "    return[slope,rvalue,pvalue,stderr]"
   ]
  },
  {
   "cell_type": "code",
   "execution_count": 7,
   "metadata": {},
   "outputs": [],
   "source": [
    "def ONDJ_avg (arg):\n",
    "    filtr = (arg['time.month']>=10)+(arg['time.month']==1)\n",
    "    ondj_avg=arg.where(filtr).resample(time='AS-Oct',skipna=True).mean()\n",
    "    return(ondj_avg)"
   ]
  },
  {
   "cell_type": "code",
   "execution_count": 8,
   "metadata": {},
   "outputs": [
    {
     "data": {
      "text/html": [
       "<div><svg style=\"position: absolute; width: 0; height: 0; overflow: hidden\">\n",
       "<defs>\n",
       "<symbol id=\"icon-database\" viewBox=\"0 0 32 32\">\n",
       "<path d=\"M16 0c-8.837 0-16 2.239-16 5v4c0 2.761 7.163 5 16 5s16-2.239 16-5v-4c0-2.761-7.163-5-16-5z\"></path>\n",
       "<path d=\"M16 17c-8.837 0-16-2.239-16-5v6c0 2.761 7.163 5 16 5s16-2.239 16-5v-6c0 2.761-7.163 5-16 5z\"></path>\n",
       "<path d=\"M16 26c-8.837 0-16-2.239-16-5v6c0 2.761 7.163 5 16 5s16-2.239 16-5v-6c0 2.761-7.163 5-16 5z\"></path>\n",
       "</symbol>\n",
       "<symbol id=\"icon-file-text2\" viewBox=\"0 0 32 32\">\n",
       "<path d=\"M28.681 7.159c-0.694-0.947-1.662-2.053-2.724-3.116s-2.169-2.030-3.116-2.724c-1.612-1.182-2.393-1.319-2.841-1.319h-15.5c-1.378 0-2.5 1.121-2.5 2.5v27c0 1.378 1.122 2.5 2.5 2.5h23c1.378 0 2.5-1.122 2.5-2.5v-19.5c0-0.448-0.137-1.23-1.319-2.841zM24.543 5.457c0.959 0.959 1.712 1.825 2.268 2.543h-4.811v-4.811c0.718 0.556 1.584 1.309 2.543 2.268zM28 29.5c0 0.271-0.229 0.5-0.5 0.5h-23c-0.271 0-0.5-0.229-0.5-0.5v-27c0-0.271 0.229-0.5 0.5-0.5 0 0 15.499-0 15.5 0v7c0 0.552 0.448 1 1 1h7v19.5z\"></path>\n",
       "<path d=\"M23 26h-14c-0.552 0-1-0.448-1-1s0.448-1 1-1h14c0.552 0 1 0.448 1 1s-0.448 1-1 1z\"></path>\n",
       "<path d=\"M23 22h-14c-0.552 0-1-0.448-1-1s0.448-1 1-1h14c0.552 0 1 0.448 1 1s-0.448 1-1 1z\"></path>\n",
       "<path d=\"M23 18h-14c-0.552 0-1-0.448-1-1s0.448-1 1-1h14c0.552 0 1 0.448 1 1s-0.448 1-1 1z\"></path>\n",
       "</symbol>\n",
       "</defs>\n",
       "</svg>\n",
       "<style>/* CSS stylesheet for displaying xarray objects in jupyterlab.\n",
       " *\n",
       " */\n",
       "\n",
       ":root {\n",
       "  --xr-font-color0: var(--jp-content-font-color0, rgba(0, 0, 0, 1));\n",
       "  --xr-font-color2: var(--jp-content-font-color2, rgba(0, 0, 0, 0.54));\n",
       "  --xr-font-color3: var(--jp-content-font-color3, rgba(0, 0, 0, 0.38));\n",
       "  --xr-border-color: var(--jp-border-color2, #e0e0e0);\n",
       "  --xr-disabled-color: var(--jp-layout-color3, #bdbdbd);\n",
       "  --xr-background-color: var(--jp-layout-color0, white);\n",
       "  --xr-background-color-row-even: var(--jp-layout-color1, white);\n",
       "  --xr-background-color-row-odd: var(--jp-layout-color2, #eeeeee);\n",
       "}\n",
       "\n",
       "html[theme=dark],\n",
       "body.vscode-dark {\n",
       "  --xr-font-color0: rgba(255, 255, 255, 1);\n",
       "  --xr-font-color2: rgba(255, 255, 255, 0.54);\n",
       "  --xr-font-color3: rgba(255, 255, 255, 0.38);\n",
       "  --xr-border-color: #1F1F1F;\n",
       "  --xr-disabled-color: #515151;\n",
       "  --xr-background-color: #111111;\n",
       "  --xr-background-color-row-even: #111111;\n",
       "  --xr-background-color-row-odd: #313131;\n",
       "}\n",
       "\n",
       ".xr-wrap {\n",
       "  display: block;\n",
       "  min-width: 300px;\n",
       "  max-width: 700px;\n",
       "}\n",
       "\n",
       ".xr-text-repr-fallback {\n",
       "  /* fallback to plain text repr when CSS is not injected (untrusted notebook) */\n",
       "  display: none;\n",
       "}\n",
       "\n",
       ".xr-header {\n",
       "  padding-top: 6px;\n",
       "  padding-bottom: 6px;\n",
       "  margin-bottom: 4px;\n",
       "  border-bottom: solid 1px var(--xr-border-color);\n",
       "}\n",
       "\n",
       ".xr-header > div,\n",
       ".xr-header > ul {\n",
       "  display: inline;\n",
       "  margin-top: 0;\n",
       "  margin-bottom: 0;\n",
       "}\n",
       "\n",
       ".xr-obj-type,\n",
       ".xr-array-name {\n",
       "  margin-left: 2px;\n",
       "  margin-right: 10px;\n",
       "}\n",
       "\n",
       ".xr-obj-type {\n",
       "  color: var(--xr-font-color2);\n",
       "}\n",
       "\n",
       ".xr-sections {\n",
       "  padding-left: 0 !important;\n",
       "  display: grid;\n",
       "  grid-template-columns: 150px auto auto 1fr 20px 20px;\n",
       "}\n",
       "\n",
       ".xr-section-item {\n",
       "  display: contents;\n",
       "}\n",
       "\n",
       ".xr-section-item input {\n",
       "  display: none;\n",
       "}\n",
       "\n",
       ".xr-section-item input + label {\n",
       "  color: var(--xr-disabled-color);\n",
       "}\n",
       "\n",
       ".xr-section-item input:enabled + label {\n",
       "  cursor: pointer;\n",
       "  color: var(--xr-font-color2);\n",
       "}\n",
       "\n",
       ".xr-section-item input:enabled + label:hover {\n",
       "  color: var(--xr-font-color0);\n",
       "}\n",
       "\n",
       ".xr-section-summary {\n",
       "  grid-column: 1;\n",
       "  color: var(--xr-font-color2);\n",
       "  font-weight: 500;\n",
       "}\n",
       "\n",
       ".xr-section-summary > span {\n",
       "  display: inline-block;\n",
       "  padding-left: 0.5em;\n",
       "}\n",
       "\n",
       ".xr-section-summary-in:disabled + label {\n",
       "  color: var(--xr-font-color2);\n",
       "}\n",
       "\n",
       ".xr-section-summary-in + label:before {\n",
       "  display: inline-block;\n",
       "  content: '►';\n",
       "  font-size: 11px;\n",
       "  width: 15px;\n",
       "  text-align: center;\n",
       "}\n",
       "\n",
       ".xr-section-summary-in:disabled + label:before {\n",
       "  color: var(--xr-disabled-color);\n",
       "}\n",
       "\n",
       ".xr-section-summary-in:checked + label:before {\n",
       "  content: '▼';\n",
       "}\n",
       "\n",
       ".xr-section-summary-in:checked + label > span {\n",
       "  display: none;\n",
       "}\n",
       "\n",
       ".xr-section-summary,\n",
       ".xr-section-inline-details {\n",
       "  padding-top: 4px;\n",
       "  padding-bottom: 4px;\n",
       "}\n",
       "\n",
       ".xr-section-inline-details {\n",
       "  grid-column: 2 / -1;\n",
       "}\n",
       "\n",
       ".xr-section-details {\n",
       "  display: none;\n",
       "  grid-column: 1 / -1;\n",
       "  margin-bottom: 5px;\n",
       "}\n",
       "\n",
       ".xr-section-summary-in:checked ~ .xr-section-details {\n",
       "  display: contents;\n",
       "}\n",
       "\n",
       ".xr-array-wrap {\n",
       "  grid-column: 1 / -1;\n",
       "  display: grid;\n",
       "  grid-template-columns: 20px auto;\n",
       "}\n",
       "\n",
       ".xr-array-wrap > label {\n",
       "  grid-column: 1;\n",
       "  vertical-align: top;\n",
       "}\n",
       "\n",
       ".xr-preview {\n",
       "  color: var(--xr-font-color3);\n",
       "}\n",
       "\n",
       ".xr-array-preview,\n",
       ".xr-array-data {\n",
       "  padding: 0 5px !important;\n",
       "  grid-column: 2;\n",
       "}\n",
       "\n",
       ".xr-array-data,\n",
       ".xr-array-in:checked ~ .xr-array-preview {\n",
       "  display: none;\n",
       "}\n",
       "\n",
       ".xr-array-in:checked ~ .xr-array-data,\n",
       ".xr-array-preview {\n",
       "  display: inline-block;\n",
       "}\n",
       "\n",
       ".xr-dim-list {\n",
       "  display: inline-block !important;\n",
       "  list-style: none;\n",
       "  padding: 0 !important;\n",
       "  margin: 0;\n",
       "}\n",
       "\n",
       ".xr-dim-list li {\n",
       "  display: inline-block;\n",
       "  padding: 0;\n",
       "  margin: 0;\n",
       "}\n",
       "\n",
       ".xr-dim-list:before {\n",
       "  content: '(';\n",
       "}\n",
       "\n",
       ".xr-dim-list:after {\n",
       "  content: ')';\n",
       "}\n",
       "\n",
       ".xr-dim-list li:not(:last-child):after {\n",
       "  content: ',';\n",
       "  padding-right: 5px;\n",
       "}\n",
       "\n",
       ".xr-has-index {\n",
       "  font-weight: bold;\n",
       "}\n",
       "\n",
       ".xr-var-list,\n",
       ".xr-var-item {\n",
       "  display: contents;\n",
       "}\n",
       "\n",
       ".xr-var-item > div,\n",
       ".xr-var-item label,\n",
       ".xr-var-item > .xr-var-name span {\n",
       "  background-color: var(--xr-background-color-row-even);\n",
       "  margin-bottom: 0;\n",
       "}\n",
       "\n",
       ".xr-var-item > .xr-var-name:hover span {\n",
       "  padding-right: 5px;\n",
       "}\n",
       "\n",
       ".xr-var-list > li:nth-child(odd) > div,\n",
       ".xr-var-list > li:nth-child(odd) > label,\n",
       ".xr-var-list > li:nth-child(odd) > .xr-var-name span {\n",
       "  background-color: var(--xr-background-color-row-odd);\n",
       "}\n",
       "\n",
       ".xr-var-name {\n",
       "  grid-column: 1;\n",
       "}\n",
       "\n",
       ".xr-var-dims {\n",
       "  grid-column: 2;\n",
       "}\n",
       "\n",
       ".xr-var-dtype {\n",
       "  grid-column: 3;\n",
       "  text-align: right;\n",
       "  color: var(--xr-font-color2);\n",
       "}\n",
       "\n",
       ".xr-var-preview {\n",
       "  grid-column: 4;\n",
       "}\n",
       "\n",
       ".xr-var-name,\n",
       ".xr-var-dims,\n",
       ".xr-var-dtype,\n",
       ".xr-preview,\n",
       ".xr-attrs dt {\n",
       "  white-space: nowrap;\n",
       "  overflow: hidden;\n",
       "  text-overflow: ellipsis;\n",
       "  padding-right: 10px;\n",
       "}\n",
       "\n",
       ".xr-var-name:hover,\n",
       ".xr-var-dims:hover,\n",
       ".xr-var-dtype:hover,\n",
       ".xr-attrs dt:hover {\n",
       "  overflow: visible;\n",
       "  width: auto;\n",
       "  z-index: 1;\n",
       "}\n",
       "\n",
       ".xr-var-attrs,\n",
       ".xr-var-data {\n",
       "  display: none;\n",
       "  background-color: var(--xr-background-color) !important;\n",
       "  padding-bottom: 5px !important;\n",
       "}\n",
       "\n",
       ".xr-var-attrs-in:checked ~ .xr-var-attrs,\n",
       ".xr-var-data-in:checked ~ .xr-var-data {\n",
       "  display: block;\n",
       "}\n",
       "\n",
       ".xr-var-data > table {\n",
       "  float: right;\n",
       "}\n",
       "\n",
       ".xr-var-name span,\n",
       ".xr-var-data,\n",
       ".xr-attrs {\n",
       "  padding-left: 25px !important;\n",
       "}\n",
       "\n",
       ".xr-attrs,\n",
       ".xr-var-attrs,\n",
       ".xr-var-data {\n",
       "  grid-column: 1 / -1;\n",
       "}\n",
       "\n",
       "dl.xr-attrs {\n",
       "  padding: 0;\n",
       "  margin: 0;\n",
       "  display: grid;\n",
       "  grid-template-columns: 125px auto;\n",
       "}\n",
       "\n",
       ".xr-attrs dt,\n",
       ".xr-attrs dd {\n",
       "  padding: 0;\n",
       "  margin: 0;\n",
       "  float: left;\n",
       "  padding-right: 10px;\n",
       "  width: auto;\n",
       "}\n",
       "\n",
       ".xr-attrs dt {\n",
       "  font-weight: normal;\n",
       "  grid-column: 1;\n",
       "}\n",
       "\n",
       ".xr-attrs dt:hover span {\n",
       "  display: inline-block;\n",
       "  background: var(--xr-background-color);\n",
       "  padding-right: 10px;\n",
       "}\n",
       "\n",
       ".xr-attrs dd {\n",
       "  grid-column: 2;\n",
       "  white-space: pre-wrap;\n",
       "  word-break: break-all;\n",
       "}\n",
       "\n",
       ".xr-icon-database,\n",
       ".xr-icon-file-text2 {\n",
       "  display: inline-block;\n",
       "  vertical-align: middle;\n",
       "  width: 1em;\n",
       "  height: 1.5em !important;\n",
       "  stroke-width: 0;\n",
       "  stroke: currentColor;\n",
       "  fill: currentColor;\n",
       "}\n",
       "</style><pre class='xr-text-repr-fallback'>&lt;xarray.DataArray (time: 18)&gt;\n",
       "array([27.812 , 27.005 , 27.3375, 26.0175, 27.52  , 25.09  , 26.005 ,\n",
       "       28.0425, 25.0225, 25.6   , 26.5475, 26.39  , 27.245 , 29.2175,\n",
       "       26.035 , 25.77  , 27.4775, 27.17  ])\n",
       "Coordinates:\n",
       "  * time     (time) int64 2002 2003 2004 2005 2006 ... 2015 2016 2017 2018 2019</pre><div class='xr-wrap' hidden><div class='xr-header'><div class='xr-obj-type'>xarray.DataArray</div><div class='xr-array-name'></div><ul class='xr-dim-list'><li><span class='xr-has-index'>time</span>: 18</li></ul></div><ul class='xr-sections'><li class='xr-section-item'><div class='xr-array-wrap'><input id='section-ea62534d-6949-47d0-88ff-9c07cede5552' class='xr-array-in' type='checkbox' checked><label for='section-ea62534d-6949-47d0-88ff-9c07cede5552' title='Show/hide data repr'><svg class='icon xr-icon-database'><use xlink:href='#icon-database'></use></svg></label><div class='xr-array-preview xr-preview'><span>27.81 27.0 27.34 26.02 27.52 25.09 ... 29.22 26.04 25.77 27.48 27.17</span></div><div class='xr-array-data'><pre>array([27.812 , 27.005 , 27.3375, 26.0175, 27.52  , 25.09  , 26.005 ,\n",
       "       28.0425, 25.0225, 25.6   , 26.5475, 26.39  , 27.245 , 29.2175,\n",
       "       26.035 , 25.77  , 27.4775, 27.17  ])</pre></div></div></li><li class='xr-section-item'><input id='section-ddd8aa7c-2e02-4e29-ae22-692dffcaebc8' class='xr-section-summary-in' type='checkbox'  checked><label for='section-ddd8aa7c-2e02-4e29-ae22-692dffcaebc8' class='xr-section-summary' >Coordinates: <span>(1)</span></label><div class='xr-section-inline-details'></div><div class='xr-section-details'><ul class='xr-var-list'><li class='xr-var-item'><div class='xr-var-name'><span class='xr-has-index'>time</span></div><div class='xr-var-dims'>(time)</div><div class='xr-var-dtype'>int64</div><div class='xr-var-preview xr-preview'>2002 2003 2004 ... 2017 2018 2019</div><input id='attrs-64796499-eade-4d35-afcd-2098333969ef' class='xr-var-attrs-in' type='checkbox' disabled><label for='attrs-64796499-eade-4d35-afcd-2098333969ef' title='Show/Hide attributes'><svg class='icon xr-icon-file-text2'><use xlink:href='#icon-file-text2'></use></svg></label><input id='data-ca8671ca-420f-42df-936e-0a3f7eeffe24' class='xr-var-data-in' type='checkbox'><label for='data-ca8671ca-420f-42df-936e-0a3f7eeffe24' title='Show/Hide data repr'><svg class='icon xr-icon-database'><use xlink:href='#icon-database'></use></svg></label><div class='xr-var-attrs'><dl class='xr-attrs'></dl></div><div class='xr-var-data'><pre>array([2002, 2003, 2004, 2005, 2006, 2007, 2008, 2009, 2010, 2011, 2012, 2013,\n",
       "       2014, 2015, 2016, 2017, 2018, 2019])</pre></div></li></ul></div></li><li class='xr-section-item'><input id='section-743fb3d6-ab19-4a55-be87-51019d131e3e' class='xr-section-summary-in' type='checkbox' disabled ><label for='section-743fb3d6-ab19-4a55-be87-51019d131e3e' class='xr-section-summary'  title='Expand/collapse section'>Attributes: <span>(0)</span></label><div class='xr-section-inline-details'></div><div class='xr-section-details'><dl class='xr-attrs'></dl></div></li></ul></div></div>"
      ],
      "text/plain": [
       "<xarray.DataArray (time: 18)>\n",
       "array([27.812 , 27.005 , 27.3375, 26.0175, 27.52  , 25.09  , 26.005 ,\n",
       "       28.0425, 25.0225, 25.6   , 26.5475, 26.39  , 27.245 , 29.2175,\n",
       "       26.035 , 25.77  , 27.4775, 27.17  ])\n",
       "Coordinates:\n",
       "  * time     (time) int64 2002 2003 2004 2005 2006 ... 2015 2016 2017 2018 2019"
      ]
     },
     "execution_count": 8,
     "metadata": {},
     "output_type": "execute_result"
    }
   ],
   "source": [
    "yrs=np.arange(2002,2020)\n",
    "nin= np.array([27.812,27.005,27.3375,26.0175,27.52,25.09,26.005,28.0425,25.0225,25.6,26.5475,26.39,27.245,29.2175,26.035,25.77,27.4775,27.17])\n",
    "nino=xr.DataArray(data=nin, coords=[yrs], dims=['time'])\n",
    "nino"
   ]
  },
  {
   "cell_type": "code",
   "execution_count": 9,
   "metadata": {},
   "outputs": [],
   "source": [
    "    nino_raw=np.array([0.74,   0.87,   1.09,   1.25,   1.47,   1.37,\n",
    "    0.60,   0.64,   0.36,  -0.14,  -0.61,  -0.29,   0.21,   0.26,   0.27,   0.42,   0.33,   0.43,\n",
    "    0.27,   0.23,   0.12,   0.07,   0.06,   0.13,   0.49,   0.76,   0.81,   0.73,   0.66,   0.74,\n",
    "    0.66,   0.36,   0.45,   0.26,   0.30,   0.04,  -0.23,  -0.05,  -0.04,  -0.06,  -0.59,  -0.92,\n",
    "   -0.91,  -0.67,  -0.71,  -0.32,  -0.09,   0.00,   0.01,   0.31,   0.60,   0.70,   0.99,   1.14,\n",
    "    0.70,   0.13,  -0.18,  -0.32,  -0.47,  -0.35,  -0.59,  -0.72,  -1.11,  -1.39,  -1.54,  -1.58,\n",
    "   -1.68,  -1.67,  -1.21,  -0.99,  -0.84,  -0.68,  -0.30,  -0.13,  -0.25,  -0.35,  -0.46,  -0.86,\n",
    "   -0.89,  -0.79,  -0.69,  -0.35,   0.06,   0.31,   0.48,   0.56,   0.68,   0.89,   1.46,   1.74,\n",
    "    1.52,   1.25,   0.90,   0.38,  -0.22,  -0.69,  -1.07,  -1.39,  -1.60,  -1.69,  -1.64,  -1.60,\n",
    "   -1.54,  -1.11,  -0.93,  -0.77,  -0.52,  -0.38,  -0.43,  -0.65,  -0.80,  -1.05,  -1.19,  -1.06,\n",
    "   -0.87,  -0.67,  -0.61,  -0.50,  -0.32,   0.02,   0.25,   0.47,   0.38,   0.26,   0.16,  -0.25,\n",
    "   -0.53,  -0.52,  -0.25,  -0.25,  -0.40,  -0.42,  -0.39,  -0.38,  -0.18,  -0.20,  -0.14,  -0.17,\n",
    "   -0.49,  -0.62,  -0.28,   0.08,   0.32,   0.23,  -0.06,  -0.03,   0.29,   0.44,   0.75,   0.71,\n",
    "    0.51,   0.42,   0.47,   0.70,   0.92,   1.18,   1.46,   1.93,   2.21,   2.36,   2.72,   2.66,\n",
    "    2.57,   2.26,   1.62,   0.91,   0.30,  -0.03,  -0.48,  -0.58,  -0.58,  -0.74,  -0.76,  -0.50,\n",
    "   -0.43,  -0.08,   0.03,   0.22,   0.37,   0.34,   0.25,  -0.16,  -0.43,  -0.56,  -0.97,  -0.98,\n",
    "   -0.98,  -0.78,  -0.80,  -0.51,  -0.20,   0.04,   0.12,   0.09,   0.47,   0.90,   0.90,   0.89,\n",
    "    0.65,   0.71,   0.81,   0.62,   0.55,   0.45,   0.35,   0.04,   0.03,   0.48,   0.52,   0.52])\n",
    "    \n",
    "nino_anom=xr.DataArray(data=nino_raw,coords=[ds1.time])\n",
    "nino_a=ONDJ_avg(nino_anom)[1:]"
   ]
  },
  {
   "cell_type": "markdown",
   "metadata": {},
   "source": [
    "# FROM HERE, PLEASE SKIP THE BELOW STEPS AND GO TO THE NEXT PART WHERE MARKED WITH A HEADING"
   ]
  },
  {
   "cell_type": "markdown",
   "metadata": {},
   "source": [
    "### BELOW IS THE ANALYSIS OF 3 LEVELS WITHIN CIRROSTRATUS BIN"
   ]
  },
  {
   "cell_type": "code",
   "execution_count": null,
   "metadata": {},
   "outputs": [],
   "source": []
  },
  {
   "cell_type": "code",
   "execution_count": 10,
   "metadata": {},
   "outputs": [],
   "source": [
    "# 3 LEVELS WITHIN CIRROSTRATUS CLOUD BIN"
   ]
  },
  {
   "cell_type": "code",
   "execution_count": 11,
   "metadata": {},
   "outputs": [],
   "source": [
    "common=take_anom(ds1.cldarea_cldtyp_mon)\n",
    "\n",
    "# 3 levels within cirrostratus bin\n",
    "cirro_lev1=common[2:4,4,:].sum('opt').mean('lat').mean('lon')\n",
    "cirro_lev2=common[2:4,5,:].sum('opt').mean('lat').mean('lon')\n",
    "cirro_lev3=common[2:4,6,:].sum('opt').mean('lat').mean('lon')\n",
    "\n",
    "cirro_l1_ondj=ONDJ_avg(cirro_lev1)[1:]\n",
    "cirro_l2_ondj=ONDJ_avg(cirro_lev2)[1:]\n",
    "cirro_l3_ondj=ONDJ_avg(cirro_lev3)[1:]\n",
    "\n",
    "# 3 levels within high cloud bin\n",
    "high_lev1=common[:,4,:].sum('opt').mean('lat').mean('lon')\n",
    "high_lev2=common[:,5,:].sum('opt').mean('lat').mean('lon')\n",
    "high_lev3=common[:,6,:].sum('opt').mean('lat').mean('lon')\n",
    "\n",
    "hi_l1_ondj=ONDJ_avg(high_lev1)[1:]\n",
    "hi_l2_ondj=ONDJ_avg(high_lev2)[1:]\n",
    "hi_l3_ondj=ONDJ_avg(high_lev3)[1:]"
   ]
  },
  {
   "cell_type": "code",
   "execution_count": 12,
   "metadata": {},
   "outputs": [],
   "source": [
    "# The below analysis shows that the clouds in both the 1st and 2nd levels within cirrostratus bin are \n",
    "# highly and significantly correlated with surface warming, where as the 3rd level does'nt show \n",
    "# any significant relationship"
   ]
  },
  {
   "cell_type": "code",
   "execution_count": 13,
   "metadata": {},
   "outputs": [
    {
     "data": {
      "text/plain": [
       "[-0.061209140682762224,\n",
       " -0.556178726754157,\n",
       " 0.01653366690639022,\n",
       " 0.022865237259451998]"
      ]
     },
     "execution_count": 13,
     "metadata": {},
     "output_type": "execute_result"
    }
   ],
   "source": [
    "linear_regression(nino_a,cirro_l1_ondj)"
   ]
  },
  {
   "cell_type": "code",
   "execution_count": 14,
   "metadata": {},
   "outputs": [
    {
     "data": {
      "text/plain": [
       "[-0.12219401163937792,\n",
       " -0.7864767721400905,\n",
       " 0.00010840915117036348,\n",
       " 0.02398972562879778]"
      ]
     },
     "execution_count": 14,
     "metadata": {},
     "output_type": "execute_result"
    }
   ],
   "source": [
    "linear_regression(nino_a,cirro_l2_ondj)"
   ]
  },
  {
   "cell_type": "code",
   "execution_count": 15,
   "metadata": {},
   "outputs": [
    {
     "data": {
      "text/plain": [
       "[-0.0016966009774202558,\n",
       " -0.06391837356418091,\n",
       " 0.8010632917086088,\n",
       " 0.006622241597335575]"
      ]
     },
     "execution_count": 15,
     "metadata": {},
     "output_type": "execute_result"
    }
   ],
   "source": [
    "linear_regression(nino_a,cirro_l3_ondj)"
   ]
  },
  {
   "cell_type": "code",
   "execution_count": 145,
   "metadata": {},
   "outputs": [],
   "source": [
    "# The below analysis is done for the 3 levels within the high cloud bin, which shows that the cloud cover\n",
    "# has a positive relation with the nino index in the 3rd level, showing that the cloud amount in the upper bin\n",
    "# increases with warming/ the clouds move to greater heights with warming. Pvalues are not above 0.05 for any of them,\n",
    "# but are close to significance level."
   ]
  },
  {
   "cell_type": "code",
   "execution_count": 142,
   "metadata": {},
   "outputs": [
    {
     "data": {
      "text/plain": [
       "[-0.10224491303030027,\n",
       " -0.4243976319382693,\n",
       " 0.0791938594274571,\n",
       " 0.05453630050756887]"
      ]
     },
     "execution_count": 142,
     "metadata": {},
     "output_type": "execute_result"
    }
   ],
   "source": [
    "linear_regression(nino_a,hi_l1_ondj)"
   ]
  },
  {
   "cell_type": "code",
   "execution_count": 143,
   "metadata": {},
   "outputs": [
    {
     "data": {
      "text/plain": [
       "[-0.11357760712269666,\n",
       " -0.3540526436577126,\n",
       " 0.1494535800264295,\n",
       " 0.07500344629927615]"
      ]
     },
     "execution_count": 143,
     "metadata": {},
     "output_type": "execute_result"
    }
   ],
   "source": [
    "linear_regression(nino_a,hi_l2_ondj)"
   ]
  },
  {
   "cell_type": "code",
   "execution_count": 144,
   "metadata": {},
   "outputs": [
    {
     "data": {
      "text/plain": [
       "[0.047520280101469456,\n",
       " 0.44914979749798345,\n",
       " 0.061505753482827406,\n",
       " 0.02363203870566809]"
      ]
     },
     "execution_count": 144,
     "metadata": {},
     "output_type": "execute_result"
    }
   ],
   "source": [
    "linear_regression(nino_a,hi_l3_ondj)"
   ]
  },
  {
   "cell_type": "code",
   "execution_count": 153,
   "metadata": {},
   "outputs": [
    {
     "name": "stdout",
     "output_type": "stream",
     "text": [
      "-0.061209140682762196 -0.12219401163937786 -0.0016966009774202553\n"
     ]
    },
    {
     "data": {
      "image/png": "[encoded data removed]",
      "text/plain": [
       "<Figure size 576x432 with 1 Axes>"
      ]
     },
     "metadata": {
      "needs_background": "light"
     },
     "output_type": "display_data"
    }
   ],
   "source": [
    "# within cirrostratus cloud bin, 3 levels\n",
    "\n",
    "fig, ax = plt.subplots(figsize=(8,6))\n",
    "\n",
    "ax.scatter(nino_a, cirro_l1_ondj,color='indianred',label='lev1')\n",
    "slope4,intercept4=np.polyfit(nino_a,cirro_l1_ondj,1)\n",
    "Y4=slope4*nino_a+intercept4\n",
    "ax.plot(nino_a,Y4,color='indianred',linewidth=2)\n",
    "\n",
    "ax.scatter(nino_a,cirro_l2_ondj,color='firebrick',label='lev2')\n",
    "slope5,intercept5=np.polyfit(nino_a,cirro_l2_ondj,1)\n",
    "Y5=slope5*nino_a+intercept5\n",
    "ax.plot(nino_a,Y5,color='firebrick',linewidth=2)\n",
    "\n",
    "ax.scatter(nino_a,cirro_l3_ondj,color='goldenrod',label='lev3')\n",
    "slope6,intercept6=np.polyfit(nino_a,cirro_l3_ondj,1)\n",
    "Y6=slope6*nino_a+intercept6\n",
    "ax.plot(nino_a,Y6,color='goldenrod',linewidth=2)\n",
    "\n",
    "ax.legend()\n",
    "ax.legend(loc='lower right')\n",
    "\n",
    "print(slope4,slope5,slope6)\n",
    "\n",
    "fig.text(0.64, 0.84, 's=-0.06, p=0.02,r=-0.56', ha='left',size=10,fontweight='bold',color='indianred')\n",
    "fig.text(0.64, 0.80, 's=-0.12, p=0.00,r=-0.79', ha='left',size=10,fontweight='bold',color='firebrick')\n",
    "fig.text(0.64, 0.76, 's=-0.00, p=0.80,r=-0.06', ha='left',size=10,fontweight='bold',color='goldenrod')\n",
    "\n",
    "\n",
    "fig.text(0.02, 0.5, 'Cloud Cover Anomalies(%) ----->', va='center', rotation='vertical',size=12,fontweight='bold')\n",
    "fig.text(0.5, 0.04, 'Nino 3.4 Index----->', ha='center',size=12,fontweight='bold')\n",
    "plt.title('Levels within cirrostratus bin',fontweight='bold')\n",
    "\n",
    "plt.savefig('3levels_cirro',dpi=300, bbox_inches='tight')"
   ]
  },
  {
   "cell_type": "markdown",
   "metadata": {},
   "source": [
    "# SEE BELOW "
   ]
  },
  {
   "cell_type": "code",
   "execution_count": null,
   "metadata": {},
   "outputs": [],
   "source": [
    "#Now, trying to reproduce the CF x Nino relation for all the 9 cloud types, which was the intial step of the whole project. \n",
    "#Doing it once again, since the weightage might have been wrong before.\n"
   ]
  },
  {
   "cell_type": "code",
   "execution_count": 155,
   "metadata": {},
   "outputs": [
    {
     "data": {
      "image/png": "[encoded data removed]",
      "text/plain": [
       "<Figure size 720x576 with 1 Axes>"
      ]
     },
     "metadata": {
      "needs_background": "light"
     },
     "output_type": "display_data"
    }
   ],
   "source": [
    "fig, ax = plt.subplots(figsize=(10,8))\n",
    "\n",
    "ax.scatter(nino_a, c1,color='green',label='Cirrus')\n",
    "slope1,intercept1=np.polyfit(nino_a,c1,1)\n",
    "Y1=slope1*nino_a+intercept1\n",
    "ax.plot(nino_a,Y1,color='green',linewidth=2)\n",
    "\n",
    "ax.scatter(nino_a,c2,color='maroon',label='Cirrostratus')\n",
    "slope2,intercept2=np.polyfit(nino_a,c2,1)\n",
    "Y2=slope2*nino_a+intercept2\n",
    "ax.plot(nino_a,Y2,color='maroon',linewidth=2)\n",
    "\n",
    "ax.scatter(nino_a,c3,color='darkblue',label='Deep convective')\n",
    "slope3,intercept3=np.polyfit(nino_a,c3,1)\n",
    "Y3=slope3*nino_a+intercept3\n",
    "ax.plot(nino_a,Y3,color='darkblue',linewidth=2)\n",
    "\n",
    "ax.scatter(nino_a,c4,color='crimson',label='Alto Cumulus')\n",
    "slope4,intercept4=np.polyfit(nino_a,c4,1)\n",
    "Y4=slope4*nino_a+intercept4\n",
    "ax.plot(nino_a,Y4,color='crimson',linewidth=2)#tomato,darksalmon,sienna,teal\n",
    "\n",
    "\n",
    "ax.scatter(nino_a,c5,color='tomato',label='Alto Stratus')\n",
    "slope5,intercept5=np.polyfit(nino_a,c5,1)\n",
    "Y5=slope5*nino_a+intercept5\n",
    "ax.plot(nino_a,Y5,color='tomato',linewidth=2)\n",
    "\n",
    "ax.scatter(nino_a,c6,color='teal',label='Nimbostratus')\n",
    "slope6,intercept6=np.polyfit(nino_a,c6,1)\n",
    "Y6=slope6*nino_a+intercept6\n",
    "ax.plot(nino_a,Y6,color='teal',linewidth=2)\n",
    "\n",
    "ax.scatter(nino_a,c7,color='darksalmon',label='Cumulus')\n",
    "slope7,intercept7=np.polyfit(nino_a,c7,1)\n",
    "Y7=slope7*nino_a+intercept7\n",
    "ax.plot(nino_a,Y7,color='darksalmon',linewidth=2)\n",
    "\n",
    "ax.scatter(nino_a,c8,color='dimgrey',label='Stratocumulus')\n",
    "slope8,intercept8=np.polyfit(nino_a,c8,1)\n",
    "Y8=slope8*nino_a+intercept8\n",
    "ax.plot(nino_a,Y8,color='dimgrey',linewidth=2)\n",
    "\n",
    "ax.scatter(nino_a,c9,color='goldenrod',label='Stratus')\n",
    "slope9,intercept9=np.polyfit(nino_a,c9,1)\n",
    "Y9=slope9*nino_a+intercept9\n",
    "ax.plot(nino_a,Y9,color='goldenrod',linewidth=2)\n",
    "\n",
    "ax.legend()\n",
    "ax.legend(loc='upper left')\n",
    "\n",
    "fig.text(0.78, 0.85, 'Slope:0.04', ha='left',size=9,fontweight='bold',color='green')\n",
    "fig.text(0.78, 0.83, 'Slope:-0.19', ha='left',size=9,fontweight='bold',color='maroon')\n",
    "fig.text(0.78, 0.81, 'Slope:-0.03', ha='left',size=9,fontweight='bold',color='darkblue')\n",
    "fig.text(0.78, 0.79, 'Slope:0.04', ha='left',size=9,fontweight='bold',color='crimson')\n",
    "fig.text(0.78, 0.77, 'Slope:-0.01', ha='left',size=9,fontweight='bold',color='tomato')\n",
    "fig.text(0.78, 0.75, 'Slope:-0.01', ha='left',size=9,fontweight='bold',color='teal')\n",
    "fig.text(0.78, 0.73, 'Slope:0', ha='left',size=9,fontweight='bold',color='darksalmon')\n",
    "fig.text(0.78, 0.71, 'Slope:-0.14', ha='left',size=9,fontweight='bold',color='dimgrey')\n",
    "fig.text(0.78, 0.69, 'Slope:-0.02', ha='left',size=9,fontweight='bold',color='goldenrod')\n",
    "\n",
    "\n",
    "fig.text(0.02, 0.5, 'Cloud Fraction Anomalies (%) ----->', va='center', rotation='vertical',size=12,fontweight='bold')\n",
    "fig.text(0.5, 0.04, 'Nino 3.4 Index----->', ha='center',size=12,fontweight='bold')\n",
    "plt.title('Tropical average',fontweight='bold')\n",
    "\n",
    "plt.savefig('ALL_clouds_May1_2021',dpi=300, bbox_inches='tight')"
   ]
  },
  {
   "cell_type": "markdown",
   "metadata": {},
   "source": [
    "# LINEAR REGRESSION FOR THE ABOVE PLOT"
   ]
  },
  {
   "cell_type": "code",
   "execution_count": null,
   "metadata": {},
   "outputs": [],
   "source": [
    "# linear regression with nino and nino_a are the same"
   ]
  },
  {
   "cell_type": "code",
   "execution_count": 37,
   "metadata": {},
   "outputs": [],
   "source": [
    "step1=take_anom(ds1.cldarea_cldtyp_mon)\n",
    "step1a=ONDJ_avg(step1)\n",
    "step2=step1a[:,:,1:,:]\n",
    "c1=step2[0:2,4:,:].sum('opt').sum('press').mean('lat').mean('lon')\n",
    "c2=step2[2:4,4:,:].sum('opt').sum('press').mean('lat').mean('lon')\n",
    "c3=step2[4:,4:,:].sum('opt').sum('press').mean('lat').mean('lon')\n",
    "c4=step2[0:2,2:4,:].sum('opt').sum('press').mean('lat').mean('lon')\n",
    "c5=step2[2:4,2:4,:].sum('opt').sum('press').mean('lat').mean('lon')\n",
    "c6=step2[4:,2:4,:].sum('opt').sum('press').mean('lat').mean('lon')\n",
    "c7=step2[0:2,0:2,:].sum('opt').sum('press').mean('lat').mean('lon')\n",
    "c8=step2[2:4,0:2,:].sum('opt').sum('press').mean('lat').mean('lon')\n",
    "c9=step2[4:,0:2,:].sum('opt').sum('press').mean('lat').mean('lon')\n"
   ]
  },
  {
   "cell_type": "code",
   "execution_count": 38,
   "metadata": {},
   "outputs": [
    {
     "data": {
      "text/plain": [
       "[0.044221162542142464,\n",
       " 0.13741508618995105,\n",
       " 0.5866210303544183,\n",
       " 0.07968859522530325]"
      ]
     },
     "execution_count": 38,
     "metadata": {},
     "output_type": "execute_result"
    }
   ],
   "source": [
    "linear_regression(nino,c1)"
   ]
  },
  {
   "cell_type": "code",
   "execution_count": 39,
   "metadata": {},
   "outputs": [
    {
     "data": {
      "text/plain": [
       "[-0.1850843457819421,\n",
       " -0.7935177132686283,\n",
       " 8.49115960316177e-05,\n",
       " 0.035485204049477394]"
      ]
     },
     "execution_count": 39,
     "metadata": {},
     "output_type": "execute_result"
    }
   ],
   "source": [
    "linear_regression(nino,c2)"
   ]
  },
  {
   "cell_type": "code",
   "execution_count": 40,
   "metadata": {},
   "outputs": [
    {
     "data": {
      "text/plain": [
       "[-0.02762746531675205,\n",
       " -0.3902345075440915,\n",
       " 0.10937743582899849,\n",
       " 0.016295993184102468]"
      ]
     },
     "execution_count": 40,
     "metadata": {},
     "output_type": "execute_result"
    }
   ],
   "source": [
    "linear_regression(nino,c3)"
   ]
  },
  {
   "cell_type": "code",
   "execution_count": 41,
   "metadata": {},
   "outputs": [
    {
     "data": {
      "text/plain": [
       "[0.043461269682022415,\n",
       " 0.3369633148547278,\n",
       " 0.17150977922010266,\n",
       " 0.030359060032296457]"
      ]
     },
     "execution_count": 41,
     "metadata": {},
     "output_type": "execute_result"
    }
   ],
   "source": [
    "linear_regression(nino,c4)"
   ]
  },
  {
   "cell_type": "code",
   "execution_count": 42,
   "metadata": {},
   "outputs": [
    {
     "data": {
      "text/plain": [
       "[-0.014971196378359699,\n",
       " -0.09672232656175007,\n",
       " 0.7026132845893616,\n",
       " 0.038514898837743304]"
      ]
     },
     "execution_count": 42,
     "metadata": {},
     "output_type": "execute_result"
    }
   ],
   "source": [
    "linear_regression(nino,c5)"
   ]
  },
  {
   "cell_type": "code",
   "execution_count": 43,
   "metadata": {},
   "outputs": [
    {
     "data": {
      "text/plain": [
       "[-0.00628928962702151,\n",
       " -0.1264534262776557,\n",
       " 0.6170780413052965,\n",
       " 0.012334190587426202]"
      ]
     },
     "execution_count": 43,
     "metadata": {},
     "output_type": "execute_result"
    }
   ],
   "source": [
    "linear_regression(nino,c6)"
   ]
  },
  {
   "cell_type": "code",
   "execution_count": 44,
   "metadata": {},
   "outputs": [
    {
     "data": {
      "text/plain": [
       "[-0.0011697113652802554,\n",
       " -0.0049818357995753655,\n",
       " 0.9843475307816694,\n",
       " 0.058698083241684636]"
      ]
     },
     "execution_count": 44,
     "metadata": {},
     "output_type": "execute_result"
    }
   ],
   "source": [
    "linear_regression(nino,c7)"
   ]
  },
  {
   "cell_type": "code",
   "execution_count": 45,
   "metadata": {},
   "outputs": [
    {
     "data": {
      "text/plain": [
       "[-0.1374980247308558,\n",
       " -0.2837413263223708,\n",
       " 0.25385488748746676,\n",
       " 0.11616828600745796]"
      ]
     },
     "execution_count": 45,
     "metadata": {},
     "output_type": "execute_result"
    }
   ],
   "source": [
    "linear_regression(nino,c8)"
   ]
  },
  {
   "cell_type": "code",
   "execution_count": 46,
   "metadata": {},
   "outputs": [
    {
     "data": {
      "text/plain": [
       "[-0.019586802986672112,\n",
       " -0.429737951167705,\n",
       " 0.07509525949250401,\n",
       " 0.010288813911336544]"
      ]
     },
     "execution_count": 46,
     "metadata": {},
     "output_type": "execute_result"
    }
   ],
   "source": [
    "linear_regression(nino,c9)"
   ]
  },
  {
   "cell_type": "code",
   "execution_count": null,
   "metadata": {},
   "outputs": [],
   "source": []
  },
  {
   "cell_type": "code",
   "execution_count": null,
   "metadata": {},
   "outputs": [],
   "source": []
  },
  {
   "cell_type": "code",
   "execution_count": null,
   "metadata": {},
   "outputs": [],
   "source": []
  }
 ],
 "metadata": {
  "hide_input": false,
  "kernelspec": {
   "display_name": "Python 3",
   "language": "python",
   "name": "python3"
  },
  "language_info": {
   "codemirror_mode": {
    "name": "ipython",
    "version": 3
   },
   "file_extension": ".py",
   "mimetype": "text/x-python",
   "name": "python",
   "nbconvert_exporter": "python",
   "pygments_lexer": "ipython3",
   "version": "3.7.6"
  },
  "varInspector": {
   "cols": {
    "lenName": 16,
    "lenType": 16,
    "lenVar": 40
   },
   "kernels_config": {
    "python": {
     "delete_cmd_postfix": "",
     "delete_cmd_prefix": "del ",
     "library": "var_list.py",
     "varRefreshCmd": "print(var_dic_list())"
    },
    "r": {
     "delete_cmd_postfix": ") ",
     "delete_cmd_prefix": "rm(",
     "library": "var_list.r",
     "varRefreshCmd": "cat(var_dic_list()) "
    }
   },
   "types_to_exclude": [
    "module",
    "function",
    "builtin_function_or_method",
    "instance",
    "_Feature"
   ],
   "window_display": false
  }
 },
 "nbformat": 4,
 "nbformat_minor": 4
}
