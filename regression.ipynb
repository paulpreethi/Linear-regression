{
 "cells": [
  {
   "cell_type": "code",
   "execution_count": 1,
   "metadata": {},
   "outputs": [],
   "source": [
    "%matplotlib inline\n",
    "import xarray as xr\n",
    "import matplotlib.pyplot as plt\n",
    "import glob\n",
    "import numpy as np\n",
    "import cartopy.crs as ccrs\n",
    "import cartopy\n",
    "from scipy.stats import linregress\n",
    "import pandas as pd"
   ]
  },
  {
   "cell_type": "code",
   "execution_count": 11,
   "metadata": {},
   "outputs": [],
   "source": [
    "files=sorted(glob.glob('/home/z5241410/Desktop/UNSW/Calipso_data/full_data/Map_OPAQ330m*.nc'))\n",
    "ds=xr.open_mfdataset(files,combine='nested',concat_dim='time')"
   ]
  },
  {
   "cell_type": "code",
   "execution_count": 12,
   "metadata": {},
   "outputs": [],
   "source": [
    "clt_opz=ds['cltcalipso_opaque_z']\n",
    "opz=ds['zopaque']\n",
    "diff=(clt_opz)-opz\n",
    "cloudtop=(clt_opz)+diff"
   ]
  },
  {
   "cell_type": "code",
   "execution_count": 13,
   "metadata": {},
   "outputs": [],
   "source": [
    "climatology=cloudtop.groupby('time.month').mean('time')\n",
    "anomalies=cloudtop.groupby('time.month')-climatology"
   ]
  },
  {
   "cell_type": "code",
   "execution_count": 14,
   "metadata": {},
   "outputs": [],
   "source": [
    "nino=np.array([24.86, 25.08,26.07, 26.83 ,27.09 ,27.04 ,26.99, 26.72 ,26.47 ,26.37 ,26.25, 25.74, 25.66 ,25.96 ,26.59 ,27.47 ,27.99 ,28.04 ,27.78 ,27.42 ,27.40 ,27.60 ,28.16, 28.34, 28.07 ,28.01 ,28.18 ,28.20 ,27.71 ,27.04 ,26.22 ,25.47 ,25.12 ,25.03 ,25.06, 25.00, 25.00 ,25.64 ,26.36 ,27.05 ,27.41 ,27.35 ,26.87 ,26.21 ,25.92 ,25.67 ,25.52, 25.54, 25.67 ,26.08 ,26.67 ,27.32 ,27.61 ,27.75 ,27.54 ,27.32 ,27.10 ,26.98 ,26.86, 26.34, 26.01 ,26.24 ,27.03 ,27.57 ,27.53 ,27.30 ,26.91 ,26.47 ,26.54 ,26.52 ,26.56, 26.43, 26.05 ,26.14 ,27.00 ,27.90 ,28.25 ,27.96 ,27.23 ,26.82 ,27.01 ,27.16 ,27.46 ,27.31, 27.05 ,27.17 ,27.75 ,28.52 ,28.85 ,28.90 ,28.75 ,28.79 ,28.93 ,29.08 ,29.42, 29.26, 29.11 ,28.90 ,28.72 ,28.23 ,27.69 ,26.82 ,26.28 ,26.14 ,25.98 ,25.94, 26.10, 26.12 ,26.67 ,27.32 ,28.03 ,28.30 ,28.06 ,27.54 ,26.70 ,26.29 ,26.15 ,25.74])"
   ]
  },
  {
   "cell_type": "code",
   "execution_count": 15,
   "metadata": {},
   "outputs": [],
   "source": [
    "def point_regression(x):\n",
    "    slope, intercept, rvalue, pvalue, stderr = linregress(nino, x)\n",
    "    return [slope, intercept, rvalue]\n"
   ]
  },
  {
   "cell_type": "code",
   "execution_count": 16,
   "metadata": {},
   "outputs": [
    {
     "data": {
      "text/plain": [
       "(118,)"
      ]
     },
     "execution_count": 16,
     "metadata": {},
     "output_type": "execute_result"
    }
   ],
   "source": [
    "anomalies.isel(latitude=-85, longitude=-177).shape"
   ]
  },
  {
   "cell_type": "code",
   "execution_count": 17,
   "metadata": {},
   "outputs": [
    {
     "data": {
      "text/plain": [
       "(118,)"
      ]
     },
     "execution_count": 17,
     "metadata": {},
     "output_type": "execute_result"
    }
   ],
   "source": [
    "nino.shape"
   ]
  },
  {
   "cell_type": "code",
   "execution_count": 18,
   "metadata": {},
   "outputs": [
    {
     "name": "stderr",
     "output_type": "stream",
     "text": [
      "/home/z5241410/miniconda3/lib/python3.7/site-packages/dask/array/numpy_compat.py:40: RuntimeWarning: invalid value encountered in true_divide\n",
      "  x = np.divide(x1, x2, out)\n"
     ]
    },
    {
     "data": {
      "text/plain": [
       "[nan, nan, nan]"
      ]
     },
     "execution_count": 18,
     "metadata": {},
     "output_type": "execute_result"
    }
   ],
   "source": [
    "point_regression(anomalies.isel(latitude=9, longitude=9))"
   ]
  },
  {
   "cell_type": "code",
   "execution_count": null,
   "metadata": {},
   "outputs": [],
   "source": []
  }
 ],
 "metadata": {
  "hide_input": false,
  "kernelspec": {
   "display_name": "Python 3",
   "language": "python",
   "name": "python3"
  },
  "language_info": {
   "codemirror_mode": {
    "name": "ipython",
    "version": 3
   },
   "file_extension": ".py",
   "mimetype": "text/x-python",
   "name": "python",
   "nbconvert_exporter": "python",
   "pygments_lexer": "ipython3",
   "version": "3.7.4"
  },
  "varInspector": {
   "cols": {
    "lenName": 16,
    "lenType": 16,
    "lenVar": 40
   },
   "kernels_config": {
    "python": {
     "delete_cmd_postfix": "",
     "delete_cmd_prefix": "del ",
     "library": "var_list.py",
     "varRefreshCmd": "print(var_dic_list())"
    },
    "r": {
     "delete_cmd_postfix": ") ",
     "delete_cmd_prefix": "rm(",
     "library": "var_list.r",
     "varRefreshCmd": "cat(var_dic_list()) "
    }
   },
   "types_to_exclude": [
    "module",
    "function",
    "builtin_function_or_method",
    "instance",
    "_Feature"
   ],
   "window_display": false
  }
 },
 "nbformat": 4,
 "nbformat_minor": 4
}
