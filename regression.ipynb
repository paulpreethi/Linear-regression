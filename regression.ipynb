{
 "cells": [
  {
   "cell_type": "code",
   "execution_count": 1,
   "metadata": {},
   "outputs": [],
   "source": [
    "%matplotlib inline\n",
    "import xarray as xr\n",
    "import matplotlib.pyplot as plt\n",
    "import glob\n",
    "import numpy as np\n",
    "import cartopy.crs as ccrs\n",
    "import cartopy\n",
    "from scipy.stats import linregress\n",
    "import pandas as pd"
   ]
  },
  {
   "cell_type": "code",
   "execution_count": 2,
   "metadata": {},
   "outputs": [],
   "source": [
    "files=sorted(glob.glob('/home/z5241410/Desktop/UNSW/Calipso_data/full_data/Map_OPAQ330m*.nc'))\n",
    "ds=xr.open_mfdataset(files,combine='nested',concat_dim='time')"
   ]
  },
  {
   "cell_type": "code",
   "execution_count": 3,
   "metadata": {},
   "outputs": [],
   "source": [
    "clt_opz=ds['cltcalipso_opaque_z']\n",
    "opz=ds['zopaque']\n",
    "diff=(clt_opz)-opz\n",
    "cloudtop=(clt_opz)+diff"
   ]
  },
  {
   "cell_type": "code",
   "execution_count": 4,
   "metadata": {},
   "outputs": [],
   "source": [
    "climatology=cloudtop.groupby('time.month').mean('time')\n",
    "anomalies=cloudtop.groupby('time.month')-climatology"
   ]
  },
  {
   "cell_type": "code",
   "execution_count": 5,
   "metadata": {},
   "outputs": [],
   "source": [
    "nino=np.array([24.86, 25.08,26.07, 26.83 ,27.09 ,27.04 ,26.99, 26.72 ,26.47 ,26.37 ,26.25, 25.74, 25.66 ,25.96 ,26.59 ,27.47 ,27.99 ,28.04 ,27.78 ,27.42 ,27.40 ,27.60 ,28.16, 28.34, 28.07 ,28.01 ,28.18 ,28.20 ,27.71 ,27.04 ,26.22 ,25.47 ,25.12 ,25.03 ,25.06, 25.00, 25.00 ,25.64 ,26.36 ,27.05 ,27.41 ,27.35 ,26.87 ,26.21 ,25.92 ,25.67 ,25.52, 25.54, 25.67 ,26.08 ,26.67 ,27.32 ,27.61 ,27.75 ,27.54 ,27.32 ,27.10 ,26.98 ,26.86, 26.34, 26.01 ,26.24 ,27.03 ,27.57 ,27.53 ,27.30 ,26.91 ,26.47 ,26.54 ,26.52 ,26.56, 26.43, 26.05 ,26.14 ,27.00 ,27.90 ,28.25 ,27.96 ,27.23 ,26.82 ,27.01 ,27.16 ,27.46 ,27.31, 27.05 ,27.17 ,27.75 ,28.52 ,28.85 ,28.90 ,28.75 ,28.79 ,28.93 ,29.08 ,29.42, 29.26, 29.11 ,28.90 ,28.72 ,28.23 ,27.69 ,26.82 ,26.28 ,26.14 ,25.98 ,25.94, 26.10, 26.12 ,26.67 ,27.32 ,28.03 ,28.30 ,28.06 ,27.54 ,26.70 ,26.29 ,26.15 ,25.74])"
   ]
  },
  {
   "cell_type": "code",
   "execution_count": 10,
   "metadata": {},
   "outputs": [],
   "source": [
    "def point_regression(x):\n",
    "    slope, intercept, rvalue, pvalue, stderr = linregress(x,nino)\n",
    "    return [slope, intercept, rvalue]\n"
   ]
  },
  {
   "cell_type": "code",
   "execution_count": 27,
   "metadata": {},
   "outputs": [
    {
     "data": {
      "text/plain": [
       "(118,)"
      ]
     },
     "execution_count": 27,
     "metadata": {},
     "output_type": "execute_result"
    }
   ],
   "source": [
    "anomalies.isel(latitude=15, longitude=150).shape"
   ]
  },
  {
   "cell_type": "code",
   "execution_count": 12,
   "metadata": {},
   "outputs": [
    {
     "data": {
      "text/plain": [
       "(118,)"
      ]
     },
     "execution_count": 12,
     "metadata": {},
     "output_type": "execute_result"
    }
   ],
   "source": [
    "nino.shape"
   ]
  },
  {
   "cell_type": "code",
   "execution_count": 32,
   "metadata": {},
   "outputs": [
    {
     "name": "stderr",
     "output_type": "stream",
     "text": [
      "/home/z5241410/miniconda3/lib/python3.7/site-packages/dask/array/numpy_compat.py:40: RuntimeWarning: invalid value encountered in true_divide\n",
      "  x = np.divide(x1, x2, out)\n"
     ]
    },
    {
     "data": {
      "text/plain": [
       "[0.0532856150343695, 27.01279660844687, 0.07280213535505319]"
      ]
     },
     "execution_count": 32,
     "metadata": {},
     "output_type": "execute_result"
    }
   ],
   "source": [
    "point_regression(anomalies.isel(latitude=15, longitude=150))"
   ]
  },
  {
   "cell_type": "code",
   "execution_count": 31,
   "metadata": {},
   "outputs": [
    {
     "name": "stderr",
     "output_type": "stream",
     "text": [
      "/home/z5241410/miniconda3/lib/python3.7/site-packages/dask/array/numpy_compat.py:40: RuntimeWarning: invalid value encountered in true_divide\n",
      "  x = np.divide(x1, x2, out)\n"
     ]
    },
    {
     "data": {
      "text/plain": [
       "array([[[nan, nan, nan, ..., nan, nan, nan],\n",
       "        [nan, nan, nan, ..., nan, nan, nan],\n",
       "        [nan, nan, nan, ..., nan, nan, nan],\n",
       "        ...,\n",
       "        [nan, nan, nan, ..., nan, nan, nan],\n",
       "        [nan, nan, nan, ..., nan, nan, nan],\n",
       "        [nan, nan, nan, ..., nan, nan, nan]],\n",
       "\n",
       "       [[nan, nan, nan, ..., nan, nan, nan],\n",
       "        [nan, nan, nan, ..., nan, nan, nan],\n",
       "        [nan, nan, nan, ..., nan, nan, nan],\n",
       "        ...,\n",
       "        [nan, nan, nan, ..., nan, nan, nan],\n",
       "        [nan, nan, nan, ..., nan, nan, nan],\n",
       "        [nan, nan, nan, ..., nan, nan, nan]],\n",
       "\n",
       "       [[nan, nan, nan, ..., nan, nan, nan],\n",
       "        [nan, nan, nan, ..., nan, nan, nan],\n",
       "        [nan, nan, nan, ..., nan, nan, nan],\n",
       "        ...,\n",
       "        [nan, nan, nan, ..., nan, nan, nan],\n",
       "        [nan, nan, nan, ..., nan, nan, nan],\n",
       "        [nan, nan, nan, ..., nan, nan, nan]]])"
      ]
     },
     "execution_count": 31,
     "metadata": {},
     "output_type": "execute_result"
    }
   ],
   "source": [
    "time_axis = 0\n",
    "r = np.apply_along_axis(point_regression, time_axis, anomalies)\n",
    "r"
   ]
  },
  {
   "cell_type": "code",
   "execution_count": 26,
   "metadata": {},
   "outputs": [
    {
     "name": "stderr",
     "output_type": "stream",
     "text": [
      "/home/z5241410/miniconda3/lib/python3.7/site-packages/dask/array/numpy_compat.py:40: RuntimeWarning: invalid value encountered in true_divide\n",
      "  x = np.divide(x1, x2, out)\n"
     ]
    },
    {
     "data": {
      "text/plain": [
       "array([-3.6187911e-01, -2.0340061e-01, -7.6008201e-01, -2.5233674e-01,\n",
       "       -1.2390585e+00, -3.2848244e+00,  5.6193137e-01,  1.9315844e+00,\n",
       "        2.5019264e-01,  1.5454767e+00,  2.9248464e+00,  6.5932536e-01,\n",
       "        1.3790321e-01, -4.3188739e-01, -5.5761337e-02,  1.5787792e+00,\n",
       "        2.0958610e+00, -1.5206652e+00,  1.6964514e+00, -2.5598722e+00,\n",
       "        4.0052795e-01,  2.0385153e+00,  1.6647322e+00,  9.5089364e-01,\n",
       "       -1.0614061e-01,  1.4255524e-01,  1.4581585e-01,  7.0587254e-01,\n",
       "        8.9081097e-01,  2.7321515e+00,  2.1289179e+00, -3.9280558e-01,\n",
       "       -8.5813808e-01,  1.0134199e+00, -9.5076013e-01, -1.3993653e+00,\n",
       "       -1.2937272e+00, -1.2468715e+00, -5.1377845e-01, -1.8408318e+00,\n",
       "       -2.0551257e+00, -1.7943988e+00,  2.1291900e-01, -1.0859544e+00,\n",
       "        2.0215859e+00,  2.0459795e-01, -1.2314188e+00, -4.0730405e-01,\n",
       "        3.7737842e+00,  2.1817579e+00, -1.6059259e+00, -1.2769735e+00,\n",
       "        2.4798331e+00,  1.4396949e+00, -8.4332204e-01,  9.5499039e-01,\n",
       "        6.4277124e-01, -5.9201002e-01,  5.5789876e-01, -1.1475683e+00,\n",
       "        7.1615267e-01, -4.2835522e-01,  2.5897527e-01,  1.8314457e+00,\n",
       "       -1.7845720e+00,  5.2111278e+00,  1.3564932e+00, -8.9264750e-01,\n",
       "       -1.3761728e+00, -9.9206448e-02, -9.5973277e-01, -1.7417121e-01,\n",
       "       -1.4459891e+00, -1.8804193e+00,  1.6034930e+00,  1.6658454e+00,\n",
       "       -5.3322840e-01, -1.8703184e+00, -4.6516752e-01, -1.4299860e+00,\n",
       "        6.7065573e-01, -1.0258698e+00, -1.9918458e+00, -3.5031343e-01,\n",
       "       -5.6716442e-02,  1.8248796e-01, -3.2588696e-01,  3.8309097e-03,\n",
       "       -1.0250156e+00, -2.0062780e-01, -7.9067731e-01,  2.3335142e+00,\n",
       "        1.1458302e+00, -6.6010857e-01, -1.3347256e+00,  2.0927484e+00,\n",
       "       -8.5003853e-01,  1.1536086e+00, -2.2808597e+00, -9.6355867e-01,\n",
       "        9.9937773e-01, -1.3420367e+00,  1.0844541e+00, -1.3438582e+00,\n",
       "       -1.5392346e+00,  2.1550601e+00, -2.2424579e-01, -5.1334667e-01,\n",
       "        1.6841383e+00,  9.9539280e-02, -1.3476944e-01,  2.1340528e+00,\n",
       "       -1.7115159e+00, -2.5155098e+00,  5.6721687e-02, -1.5533965e+00,\n",
       "       -8.8558125e-01, -8.3405185e-01], dtype=float32)"
      ]
     },
     "execution_count": 26,
     "metadata": {},
     "output_type": "execute_result"
    }
   ],
   "source": [
    "anomalies.isel(latitude=15, longitude=150).values"
   ]
  },
  {
   "cell_type": "code",
   "execution_count": null,
   "metadata": {},
   "outputs": [],
   "source": []
  }
 ],
 "metadata": {
  "hide_input": false,
  "kernelspec": {
   "display_name": "Python 3",
   "language": "python",
   "name": "python3"
  },
  "language_info": {
   "codemirror_mode": {
    "name": "ipython",
    "version": 3
   },
   "file_extension": ".py",
   "mimetype": "text/x-python",
   "name": "python",
   "nbconvert_exporter": "python",
   "pygments_lexer": "ipython3",
   "version": "3.7.4"
  },
  "varInspector": {
   "cols": {
    "lenName": 16,
    "lenType": 16,
    "lenVar": 40
   },
   "kernels_config": {
    "python": {
     "delete_cmd_postfix": "",
     "delete_cmd_prefix": "del ",
     "library": "var_list.py",
     "varRefreshCmd": "print(var_dic_list())"
    },
    "r": {
     "delete_cmd_postfix": ") ",
     "delete_cmd_prefix": "rm(",
     "library": "var_list.r",
     "varRefreshCmd": "cat(var_dic_list()) "
    }
   },
   "types_to_exclude": [
    "module",
    "function",
    "builtin_function_or_method",
    "instance",
    "_Feature"
   ],
   "window_display": false
  }
 },
 "nbformat": 4,
 "nbformat_minor": 4
}
