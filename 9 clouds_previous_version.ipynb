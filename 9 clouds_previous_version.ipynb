{
 "cells": [
  {
   "cell_type": "code",
   "execution_count": 1,
   "metadata": {},
   "outputs": [],
   "source": [
    "%matplotlib inline\n",
    "import xarray as xr\n",
    "import matplotlib.pyplot as plt\n",
    "import numpy as np\n",
    "import cartopy.crs as ccrs\n",
    "import cartopy\n",
    "import glob\n",
    "from scipy.stats.mstats import linregress\n",
    "from cartopy.mpl.ticker import LongitudeFormatter, LatitudeFormatter"
   ]
  },
  {
   "cell_type": "code",
   "execution_count": 2,
   "metadata": {},
   "outputs": [],
   "source": [
    "files=sorted(glob.glob('/home/z5241410/Desktop/UNSW/CERES_data/FluxByCld_CERES/Cloud_data/CERES_FluxByCldTyp_*.nc'))\n",
    "ds1=xr.open_mfdataset(files,combine='nested',concat_dim='time')"
   ]
  },
  {
   "cell_type": "code",
   "execution_count": 3,
   "metadata": {},
   "outputs": [],
   "source": [
    "cldarea=ds1.cldarea_cldtyp_mon\n",
    "lat=ds1.lat\n",
    "lon=ds1.lon"
   ]
  },
  {
   "cell_type": "code",
   "execution_count": 4,
   "metadata": {},
   "outputs": [],
   "source": [
    "def take_anom(arg):\n",
    "    anom=(arg.groupby('time.month'))-(arg.groupby('time.month').mean('time'))\n",
    "    return(anom)"
   ]
  },
  {
   "cell_type": "code",
   "execution_count": 5,
   "metadata": {},
   "outputs": [],
   "source": [
    "cldarea_a=take_anom(cldarea)"
   ]
  },
  {
   "cell_type": "code",
   "execution_count": 6,
   "metadata": {},
   "outputs": [],
   "source": [
    "a=cldarea_a[:,:,3:7,:,:].mean('time')\n",
    "b=cldarea_a[:,:,15:19,:,:].mean('time')\n",
    "c=cldarea_a[:,:,27:31,:,:].mean('time')\n",
    "d=cldarea_a[:,:,39:43,:,:].mean('time')\n",
    "e=cldarea_a[:,:,51:55,:,:].mean('time')\n",
    "f=cldarea_a[:,:,63:67,:,:].mean('time')\n",
    "g=cldarea_a[:,:,75:79,:,:].mean('time')\n",
    "h=cldarea_a[:,:,87:91,:,:].mean('time')\n",
    "i=cldarea_a[:,:,99:103,:,:].mean('time')\n",
    "j=cldarea_a[:,:,111:115,:,:].mean('time')\n",
    "k=cldarea_a[:,:,123:127,:,:].mean('time')\n",
    "l=cldarea_a[:,:,135:139,:,:].mean('time')\n",
    "m=cldarea_a[:,:,147:151,:,:].mean('time')\n",
    "n=cldarea_a[:,:,159:163,:,:].mean('time')\n",
    "o=cldarea_a[:,:,171:175,:,:].mean('time')\n",
    "p=cldarea_a[:,:,183:187,:,:].mean('time')\n",
    "q=cldarea_a[:,:,195:199,:,:].mean('time')\n",
    "r=cldarea_a[:,:,207:210,:,:].mean('time')"
   ]
  },
  {
   "cell_type": "code",
   "execution_count": 7,
   "metadata": {},
   "outputs": [],
   "source": [
    "wt = np.cos(np.tile(abs(lat.values[:,None])*np.pi/180,(1,len(lon))))"
   ]
  },
  {
   "cell_type": "code",
   "execution_count": 8,
   "metadata": {},
   "outputs": [],
   "source": [
    "con=xr.concat([a,b,c,d,e,f,g,h,i,j,k,l,m,n,o,p,q,r],dim='time')\n",
    "con1=wt*con"
   ]
  },
  {
   "cell_type": "code",
   "execution_count": 10,
   "metadata": {},
   "outputs": [
    {
     "name": "stderr",
     "output_type": "stream",
     "text": [
      "/home/z5241410/miniconda3/lib/python3.7/site-packages/dask/array/numpy_compat.py:40: RuntimeWarning: invalid value encountered in true_divide\n",
      "  x = np.divide(x1, x2, out)\n"
     ]
    }
   ],
   "source": [
    "con1.to_netcdf('ONDJavg_wt_FlxByCldTyp_repeat.nc')"
   ]
  },
  {
   "cell_type": "code",
   "execution_count": 11,
   "metadata": {},
   "outputs": [],
   "source": [
    "ds=xr.open_dataset('ONDJavg_wt_FlxByCldTyp_repeat.nc')"
   ]
  },
  {
   "cell_type": "code",
   "execution_count": 12,
   "metadata": {},
   "outputs": [],
   "source": [
    "C1=ds.cldarea_cldtyp_mon[:,0:2,4:7,60:120,:].sum('opt').sum('press').mean('lat').mean('lon')#---C1---tropical average of cirrus\n",
    "C2=ds.cldarea_cldtyp_mon[:,2:4,4:7,60:120,:].sum('opt').sum('press').mean('lat').mean('lon')#---C2---tropical average of cirrostratus\n",
    "C3=ds.cldarea_cldtyp_mon[:,4:6,4:7,60:120,:].sum('opt').sum('press').mean('lat').mean('lon')#---C3---tropical average of deep convective\n",
    "C4=ds.cldarea_cldtyp_mon[:,0:2,2:4,60:120,:].sum('opt').sum('press').mean('lat').mean('lon')#---C4---tropical average of alto cumulus\n",
    "C5=ds.cldarea_cldtyp_mon[:,2:4,2:4,60:120,:].sum('opt').sum('press').mean('lat').mean('lon')#---C5---tropical average of alto stratus\n",
    "C6=ds.cldarea_cldtyp_mon[:,4:6,2:4,60:120,:].sum('opt').sum('press').mean('lat').mean('lon')#---C6---tropical average of nimbostratus\n",
    "C7=ds.cldarea_cldtyp_mon[:,0:2,0:2,60:120,:].sum('opt').sum('press').mean('lat').mean('lon')#---C7---tropical average of cumulus\n",
    "C8=ds.cldarea_cldtyp_mon[:,2:4,0:2,60:120,:].sum('opt').sum('press').mean('lat').mean('lon')#---C8---tropical average of stratocumulus\n",
    "C9=ds.cldarea_cldtyp_mon[:,4:6,0:2,60:120,:].sum('opt').sum('press').mean('lat').mean('lon')#---C9---tropical average of stratus\n"
   ]
  },
  {
   "cell_type": "code",
   "execution_count": 13,
   "metadata": {},
   "outputs": [
    {
     "data": {
      "text/html": [
       "<div><svg style=\"position: absolute; width: 0; height: 0; overflow: hidden\">\n",
       "<defs>\n",
       "<symbol id=\"icon-database\" viewBox=\"0 0 32 32\">\n",
       "<path d=\"M16 0c-8.837 0-16 2.239-16 5v4c0 2.761 7.163 5 16 5s16-2.239 16-5v-4c0-2.761-7.163-5-16-5z\"></path>\n",
       "<path d=\"M16 17c-8.837 0-16-2.239-16-5v6c0 2.761 7.163 5 16 5s16-2.239 16-5v-6c0 2.761-7.163 5-16 5z\"></path>\n",
       "<path d=\"M16 26c-8.837 0-16-2.239-16-5v6c0 2.761 7.163 5 16 5s16-2.239 16-5v-6c0 2.761-7.163 5-16 5z\"></path>\n",
       "</symbol>\n",
       "<symbol id=\"icon-file-text2\" viewBox=\"0 0 32 32\">\n",
       "<path d=\"M28.681 7.159c-0.694-0.947-1.662-2.053-2.724-3.116s-2.169-2.030-3.116-2.724c-1.612-1.182-2.393-1.319-2.841-1.319h-15.5c-1.378 0-2.5 1.121-2.5 2.5v27c0 1.378 1.122 2.5 2.5 2.5h23c1.378 0 2.5-1.122 2.5-2.5v-19.5c0-0.448-0.137-1.23-1.319-2.841zM24.543 5.457c0.959 0.959 1.712 1.825 2.268 2.543h-4.811v-4.811c0.718 0.556 1.584 1.309 2.543 2.268zM28 29.5c0 0.271-0.229 0.5-0.5 0.5h-23c-0.271 0-0.5-0.229-0.5-0.5v-27c0-0.271 0.229-0.5 0.5-0.5 0 0 15.499-0 15.5 0v7c0 0.552 0.448 1 1 1h7v19.5z\"></path>\n",
       "<path d=\"M23 26h-14c-0.552 0-1-0.448-1-1s0.448-1 1-1h14c0.552 0 1 0.448 1 1s-0.448 1-1 1z\"></path>\n",
       "<path d=\"M23 22h-14c-0.552 0-1-0.448-1-1s0.448-1 1-1h14c0.552 0 1 0.448 1 1s-0.448 1-1 1z\"></path>\n",
       "<path d=\"M23 18h-14c-0.552 0-1-0.448-1-1s0.448-1 1-1h14c0.552 0 1 0.448 1 1s-0.448 1-1 1z\"></path>\n",
       "</symbol>\n",
       "</defs>\n",
       "</svg>\n",
       "<style>/* CSS stylesheet for displaying xarray objects in jupyterlab.\n",
       " *\n",
       " */\n",
       "\n",
       ":root {\n",
       "  --xr-font-color0: var(--jp-content-font-color0, rgba(0, 0, 0, 1));\n",
       "  --xr-font-color2: var(--jp-content-font-color2, rgba(0, 0, 0, 0.54));\n",
       "  --xr-font-color3: var(--jp-content-font-color3, rgba(0, 0, 0, 0.38));\n",
       "  --xr-border-color: var(--jp-border-color2, #e0e0e0);\n",
       "  --xr-disabled-color: var(--jp-layout-color3, #bdbdbd);\n",
       "  --xr-background-color: var(--jp-layout-color0, white);\n",
       "  --xr-background-color-row-even: var(--jp-layout-color1, white);\n",
       "  --xr-background-color-row-odd: var(--jp-layout-color2, #eeeeee);\n",
       "}\n",
       "\n",
       "html[theme=dark],\n",
       "body.vscode-dark {\n",
       "  --xr-font-color0: rgba(255, 255, 255, 1);\n",
       "  --xr-font-color2: rgba(255, 255, 255, 0.54);\n",
       "  --xr-font-color3: rgba(255, 255, 255, 0.38);\n",
       "  --xr-border-color: #1F1F1F;\n",
       "  --xr-disabled-color: #515151;\n",
       "  --xr-background-color: #111111;\n",
       "  --xr-background-color-row-even: #111111;\n",
       "  --xr-background-color-row-odd: #313131;\n",
       "}\n",
       "\n",
       ".xr-wrap {\n",
       "  display: block;\n",
       "  min-width: 300px;\n",
       "  max-width: 700px;\n",
       "}\n",
       "\n",
       ".xr-text-repr-fallback {\n",
       "  /* fallback to plain text repr when CSS is not injected (untrusted notebook) */\n",
       "  display: none;\n",
       "}\n",
       "\n",
       ".xr-header {\n",
       "  padding-top: 6px;\n",
       "  padding-bottom: 6px;\n",
       "  margin-bottom: 4px;\n",
       "  border-bottom: solid 1px var(--xr-border-color);\n",
       "}\n",
       "\n",
       ".xr-header > div,\n",
       ".xr-header > ul {\n",
       "  display: inline;\n",
       "  margin-top: 0;\n",
       "  margin-bottom: 0;\n",
       "}\n",
       "\n",
       ".xr-obj-type,\n",
       ".xr-array-name {\n",
       "  margin-left: 2px;\n",
       "  margin-right: 10px;\n",
       "}\n",
       "\n",
       ".xr-obj-type {\n",
       "  color: var(--xr-font-color2);\n",
       "}\n",
       "\n",
       ".xr-sections {\n",
       "  padding-left: 0 !important;\n",
       "  display: grid;\n",
       "  grid-template-columns: 150px auto auto 1fr 20px 20px;\n",
       "}\n",
       "\n",
       ".xr-section-item {\n",
       "  display: contents;\n",
       "}\n",
       "\n",
       ".xr-section-item input {\n",
       "  display: none;\n",
       "}\n",
       "\n",
       ".xr-section-item input + label {\n",
       "  color: var(--xr-disabled-color);\n",
       "}\n",
       "\n",
       ".xr-section-item input:enabled + label {\n",
       "  cursor: pointer;\n",
       "  color: var(--xr-font-color2);\n",
       "}\n",
       "\n",
       ".xr-section-item input:enabled + label:hover {\n",
       "  color: var(--xr-font-color0);\n",
       "}\n",
       "\n",
       ".xr-section-summary {\n",
       "  grid-column: 1;\n",
       "  color: var(--xr-font-color2);\n",
       "  font-weight: 500;\n",
       "}\n",
       "\n",
       ".xr-section-summary > span {\n",
       "  display: inline-block;\n",
       "  padding-left: 0.5em;\n",
       "}\n",
       "\n",
       ".xr-section-summary-in:disabled + label {\n",
       "  color: var(--xr-font-color2);\n",
       "}\n",
       "\n",
       ".xr-section-summary-in + label:before {\n",
       "  display: inline-block;\n",
       "  content: '►';\n",
       "  font-size: 11px;\n",
       "  width: 15px;\n",
       "  text-align: center;\n",
       "}\n",
       "\n",
       ".xr-section-summary-in:disabled + label:before {\n",
       "  color: var(--xr-disabled-color);\n",
       "}\n",
       "\n",
       ".xr-section-summary-in:checked + label:before {\n",
       "  content: '▼';\n",
       "}\n",
       "\n",
       ".xr-section-summary-in:checked + label > span {\n",
       "  display: none;\n",
       "}\n",
       "\n",
       ".xr-section-summary,\n",
       ".xr-section-inline-details {\n",
       "  padding-top: 4px;\n",
       "  padding-bottom: 4px;\n",
       "}\n",
       "\n",
       ".xr-section-inline-details {\n",
       "  grid-column: 2 / -1;\n",
       "}\n",
       "\n",
       ".xr-section-details {\n",
       "  display: none;\n",
       "  grid-column: 1 / -1;\n",
       "  margin-bottom: 5px;\n",
       "}\n",
       "\n",
       ".xr-section-summary-in:checked ~ .xr-section-details {\n",
       "  display: contents;\n",
       "}\n",
       "\n",
       ".xr-array-wrap {\n",
       "  grid-column: 1 / -1;\n",
       "  display: grid;\n",
       "  grid-template-columns: 20px auto;\n",
       "}\n",
       "\n",
       ".xr-array-wrap > label {\n",
       "  grid-column: 1;\n",
       "  vertical-align: top;\n",
       "}\n",
       "\n",
       ".xr-preview {\n",
       "  color: var(--xr-font-color3);\n",
       "}\n",
       "\n",
       ".xr-array-preview,\n",
       ".xr-array-data {\n",
       "  padding: 0 5px !important;\n",
       "  grid-column: 2;\n",
       "}\n",
       "\n",
       ".xr-array-data,\n",
       ".xr-array-in:checked ~ .xr-array-preview {\n",
       "  display: none;\n",
       "}\n",
       "\n",
       ".xr-array-in:checked ~ .xr-array-data,\n",
       ".xr-array-preview {\n",
       "  display: inline-block;\n",
       "}\n",
       "\n",
       ".xr-dim-list {\n",
       "  display: inline-block !important;\n",
       "  list-style: none;\n",
       "  padding: 0 !important;\n",
       "  margin: 0;\n",
       "}\n",
       "\n",
       ".xr-dim-list li {\n",
       "  display: inline-block;\n",
       "  padding: 0;\n",
       "  margin: 0;\n",
       "}\n",
       "\n",
       ".xr-dim-list:before {\n",
       "  content: '(';\n",
       "}\n",
       "\n",
       ".xr-dim-list:after {\n",
       "  content: ')';\n",
       "}\n",
       "\n",
       ".xr-dim-list li:not(:last-child):after {\n",
       "  content: ',';\n",
       "  padding-right: 5px;\n",
       "}\n",
       "\n",
       ".xr-has-index {\n",
       "  font-weight: bold;\n",
       "}\n",
       "\n",
       ".xr-var-list,\n",
       ".xr-var-item {\n",
       "  display: contents;\n",
       "}\n",
       "\n",
       ".xr-var-item > div,\n",
       ".xr-var-item label,\n",
       ".xr-var-item > .xr-var-name span {\n",
       "  background-color: var(--xr-background-color-row-even);\n",
       "  margin-bottom: 0;\n",
       "}\n",
       "\n",
       ".xr-var-item > .xr-var-name:hover span {\n",
       "  padding-right: 5px;\n",
       "}\n",
       "\n",
       ".xr-var-list > li:nth-child(odd) > div,\n",
       ".xr-var-list > li:nth-child(odd) > label,\n",
       ".xr-var-list > li:nth-child(odd) > .xr-var-name span {\n",
       "  background-color: var(--xr-background-color-row-odd);\n",
       "}\n",
       "\n",
       ".xr-var-name {\n",
       "  grid-column: 1;\n",
       "}\n",
       "\n",
       ".xr-var-dims {\n",
       "  grid-column: 2;\n",
       "}\n",
       "\n",
       ".xr-var-dtype {\n",
       "  grid-column: 3;\n",
       "  text-align: right;\n",
       "  color: var(--xr-font-color2);\n",
       "}\n",
       "\n",
       ".xr-var-preview {\n",
       "  grid-column: 4;\n",
       "}\n",
       "\n",
       ".xr-var-name,\n",
       ".xr-var-dims,\n",
       ".xr-var-dtype,\n",
       ".xr-preview,\n",
       ".xr-attrs dt {\n",
       "  white-space: nowrap;\n",
       "  overflow: hidden;\n",
       "  text-overflow: ellipsis;\n",
       "  padding-right: 10px;\n",
       "}\n",
       "\n",
       ".xr-var-name:hover,\n",
       ".xr-var-dims:hover,\n",
       ".xr-var-dtype:hover,\n",
       ".xr-attrs dt:hover {\n",
       "  overflow: visible;\n",
       "  width: auto;\n",
       "  z-index: 1;\n",
       "}\n",
       "\n",
       ".xr-var-attrs,\n",
       ".xr-var-data {\n",
       "  display: none;\n",
       "  background-color: var(--xr-background-color) !important;\n",
       "  padding-bottom: 5px !important;\n",
       "}\n",
       "\n",
       ".xr-var-attrs-in:checked ~ .xr-var-attrs,\n",
       ".xr-var-data-in:checked ~ .xr-var-data {\n",
       "  display: block;\n",
       "}\n",
       "\n",
       ".xr-var-data > table {\n",
       "  float: right;\n",
       "}\n",
       "\n",
       ".xr-var-name span,\n",
       ".xr-var-data,\n",
       ".xr-attrs {\n",
       "  padding-left: 25px !important;\n",
       "}\n",
       "\n",
       ".xr-attrs,\n",
       ".xr-var-attrs,\n",
       ".xr-var-data {\n",
       "  grid-column: 1 / -1;\n",
       "}\n",
       "\n",
       "dl.xr-attrs {\n",
       "  padding: 0;\n",
       "  margin: 0;\n",
       "  display: grid;\n",
       "  grid-template-columns: 125px auto;\n",
       "}\n",
       "\n",
       ".xr-attrs dt,\n",
       ".xr-attrs dd {\n",
       "  padding: 0;\n",
       "  margin: 0;\n",
       "  float: left;\n",
       "  padding-right: 10px;\n",
       "  width: auto;\n",
       "}\n",
       "\n",
       ".xr-attrs dt {\n",
       "  font-weight: normal;\n",
       "  grid-column: 1;\n",
       "}\n",
       "\n",
       ".xr-attrs dt:hover span {\n",
       "  display: inline-block;\n",
       "  background: var(--xr-background-color);\n",
       "  padding-right: 10px;\n",
       "}\n",
       "\n",
       ".xr-attrs dd {\n",
       "  grid-column: 2;\n",
       "  white-space: pre-wrap;\n",
       "  word-break: break-all;\n",
       "}\n",
       "\n",
       ".xr-icon-database,\n",
       ".xr-icon-file-text2 {\n",
       "  display: inline-block;\n",
       "  vertical-align: middle;\n",
       "  width: 1em;\n",
       "  height: 1.5em !important;\n",
       "  stroke-width: 0;\n",
       "  stroke: currentColor;\n",
       "  fill: currentColor;\n",
       "}\n",
       "</style><pre class='xr-text-repr-fallback'>&lt;xarray.DataArray (time: 18)&gt;\n",
       "array([27.812 , 27.005 , 27.3375, 26.0175, 27.52  , 25.09  , 26.005 ,\n",
       "       28.0425, 25.0225, 25.6   , 26.5475, 26.39  , 27.245 , 29.2175,\n",
       "       26.035 , 25.77  , 27.4775, 27.17  ])\n",
       "Coordinates:\n",
       "  * time     (time) int64 2002 2003 2004 2005 2006 ... 2015 2016 2017 2018 2019</pre><div class='xr-wrap' hidden><div class='xr-header'><div class='xr-obj-type'>xarray.DataArray</div><div class='xr-array-name'></div><ul class='xr-dim-list'><li><span class='xr-has-index'>time</span>: 18</li></ul></div><ul class='xr-sections'><li class='xr-section-item'><div class='xr-array-wrap'><input id='section-ebfe78f9-cfda-4ef7-9146-b07a38ce7316' class='xr-array-in' type='checkbox' checked><label for='section-ebfe78f9-cfda-4ef7-9146-b07a38ce7316' title='Show/hide data repr'><svg class='icon xr-icon-database'><use xlink:href='#icon-database'></use></svg></label><div class='xr-array-preview xr-preview'><span>27.81 27.0 27.34 26.02 27.52 25.09 ... 29.22 26.04 25.77 27.48 27.17</span></div><div class='xr-array-data'><pre>array([27.812 , 27.005 , 27.3375, 26.0175, 27.52  , 25.09  , 26.005 ,\n",
       "       28.0425, 25.0225, 25.6   , 26.5475, 26.39  , 27.245 , 29.2175,\n",
       "       26.035 , 25.77  , 27.4775, 27.17  ])</pre></div></div></li><li class='xr-section-item'><input id='section-7ef16f54-176c-4dd0-8452-b317f7e9136e' class='xr-section-summary-in' type='checkbox'  checked><label for='section-7ef16f54-176c-4dd0-8452-b317f7e9136e' class='xr-section-summary' >Coordinates: <span>(1)</span></label><div class='xr-section-inline-details'></div><div class='xr-section-details'><ul class='xr-var-list'><li class='xr-var-item'><div class='xr-var-name'><span class='xr-has-index'>time</span></div><div class='xr-var-dims'>(time)</div><div class='xr-var-dtype'>int64</div><div class='xr-var-preview xr-preview'>2002 2003 2004 ... 2017 2018 2019</div><input id='attrs-b7440254-7c16-4d8b-b48c-0fe47861872d' class='xr-var-attrs-in' type='checkbox' disabled><label for='attrs-b7440254-7c16-4d8b-b48c-0fe47861872d' title='Show/Hide attributes'><svg class='icon xr-icon-file-text2'><use xlink:href='#icon-file-text2'></use></svg></label><input id='data-aff9e90e-a9c3-4e4c-b9c7-c7176f165974' class='xr-var-data-in' type='checkbox'><label for='data-aff9e90e-a9c3-4e4c-b9c7-c7176f165974' title='Show/Hide data repr'><svg class='icon xr-icon-database'><use xlink:href='#icon-database'></use></svg></label><div class='xr-var-attrs'><dl class='xr-attrs'></dl></div><div class='xr-var-data'><pre>array([2002, 2003, 2004, 2005, 2006, 2007, 2008, 2009, 2010, 2011, 2012, 2013,\n",
       "       2014, 2015, 2016, 2017, 2018, 2019])</pre></div></li></ul></div></li><li class='xr-section-item'><input id='section-d16734bd-8a2d-4712-ae15-6c7ff43df140' class='xr-section-summary-in' type='checkbox' disabled ><label for='section-d16734bd-8a2d-4712-ae15-6c7ff43df140' class='xr-section-summary'  title='Expand/collapse section'>Attributes: <span>(0)</span></label><div class='xr-section-inline-details'></div><div class='xr-section-details'><dl class='xr-attrs'></dl></div></li></ul></div></div>"
      ],
      "text/plain": [
       "<xarray.DataArray (time: 18)>\n",
       "array([27.812 , 27.005 , 27.3375, 26.0175, 27.52  , 25.09  , 26.005 ,\n",
       "       28.0425, 25.0225, 25.6   , 26.5475, 26.39  , 27.245 , 29.2175,\n",
       "       26.035 , 25.77  , 27.4775, 27.17  ])\n",
       "Coordinates:\n",
       "  * time     (time) int64 2002 2003 2004 2005 2006 ... 2015 2016 2017 2018 2019"
      ]
     },
     "execution_count": 13,
     "metadata": {},
     "output_type": "execute_result"
    }
   ],
   "source": [
    "times=np.arange(2002,2020)\n",
    "nin= np.array([27.812,27.005,27.3375,26.0175,27.52,25.09,26.005,28.0425,25.0225,25.6,26.5475,26.39,27.245,29.2175,26.035,25.77,27.4775,27.17])\n",
    "nino=xr.DataArray(data=nin, coords=[times], dims=['time'])\n",
    "nino"
   ]
  },
  {
   "cell_type": "code",
   "execution_count": 14,
   "metadata": {},
   "outputs": [],
   "source": [
    "def take_anom(arg):\n",
    "    anom=arg-arg.mean()\n",
    "    return(anom)"
   ]
  },
  {
   "cell_type": "code",
   "execution_count": 15,
   "metadata": {},
   "outputs": [],
   "source": [
    "nino_a=take_anom(nino)"
   ]
  },
  {
   "cell_type": "code",
   "execution_count": 16,
   "metadata": {},
   "outputs": [
    {
     "name": "stdout",
     "output_type": "stream",
     "text": [
      "0.02815243287022672 -0.11782984690837792 -0.017588416542347714 0.027668657383619986 -0.009531079622486378 -0.0040039368002192325 -0.0007446740312404494 -0.08753508513226353 -0.012469504797920973\n"
     ]
    },
    {
     "data": {
      "text/plain": [
       "Text(0.5, 1.0, 'Tropical average')"
      ]
     },
     "execution_count": 16,
     "metadata": {},
     "output_type": "execute_result"
    },
    {
     "data": {
      "image/png": "[encoded data removed]",
      "text/plain": [
       "<Figure size 720x576 with 1 Axes>"
      ]
     },
     "metadata": {
      "needs_background": "light"
     },
     "output_type": "display_data"
    }
   ],
   "source": [
    "fig, ax = plt.subplots(figsize=(10,8))\n",
    "\n",
    "ax.scatter(nino_a, C1,color='green',label='Cirrus')\n",
    "slope1,intercept1=np.polyfit(nino_a,C1,1)\n",
    "Y1=slope1*nino_a+intercept1\n",
    "ax.plot(nino_a,Y1,color='green',linewidth=2)\n",
    "\n",
    "ax.scatter(nino_a,C2,color='maroon',label='Cirrostratus')\n",
    "slope2,intercept2=np.polyfit(nino_a,C2,1)\n",
    "Y2=slope2*nino_a+intercept2\n",
    "ax.plot(nino_a,Y2,color='maroon',linewidth=2)\n",
    "\n",
    "ax.scatter(nino_a,C3,color='darkblue',label='Deep convective')\n",
    "slope3,intercept3=np.polyfit(nino_a,C3,1)\n",
    "Y3=slope3*nino_a+intercept3\n",
    "ax.plot(nino_a,Y3,color='darkblue',linewidth=2)\n",
    "\n",
    "ax.scatter(nino_a,C4,color='crimson',label='Alto Cumulus')\n",
    "slope4,intercept4=np.polyfit(nino_a,C4,1)\n",
    "Y4=slope4*nino_a+intercept4\n",
    "ax.plot(nino_a,Y4,color='crimson',linewidth=2)#tomato,darksalmon,sienna,teal\n",
    "\n",
    "\n",
    "ax.scatter(nino_a,C5,color='tomato',label='Alto Stratus')\n",
    "slope5,intercept5=np.polyfit(nino_a,C5,1)\n",
    "Y5=slope5*nino_a+intercept5\n",
    "ax.plot(nino_a,Y5,color='tomato',linewidth=2)\n",
    "\n",
    "ax.scatter(nino_a,C6,color='teal',label='Nimbostratus')\n",
    "slope6,intercept6=np.polyfit(nino_a,C6,1)\n",
    "Y6=slope6*nino_a+intercept6\n",
    "ax.plot(nino_a,Y6,color='teal',linewidth=2)\n",
    "\n",
    "ax.scatter(nino_a,C7,color='darksalmon',label='Cumulus')\n",
    "slope7,intercept7=np.polyfit(nino_a,C7,1)\n",
    "Y7=slope7*nino_a+intercept7\n",
    "ax.plot(nino_a,Y7,color='darksalmon',linewidth=2)\n",
    "\n",
    "ax.scatter(nino_a,C8,color='dimgrey',label='Stratocumulus')\n",
    "slope8,intercept8=np.polyfit(nino_a,C8,1)\n",
    "Y8=slope8*nino_a+intercept8\n",
    "ax.plot(nino_a,Y8,color='dimgrey',linewidth=2)\n",
    "\n",
    "ax.scatter(nino_a,C9,color='goldenrod',label='Stratus')\n",
    "slope9,intercept9=np.polyfit(nino_a,C9,1)\n",
    "Y9=slope9*nino_a+intercept9\n",
    "ax.plot(nino_a,Y9,color='goldenrod',linewidth=2)\n",
    "\n",
    "ax.legend()\n",
    "ax.legend(loc='upper left')\n",
    "\n",
    "print(slope1,slope2,slope3,slope4,slope5,slope6,slope7,slope8,slope9)\n",
    "\n",
    "fig.text(0.78, 0.85, 'Slope:0.028', ha='left',size=9,fontweight='bold',color='green')\n",
    "fig.text(0.78, 0.83, 'Slope:-0.118', ha='left',size=9,fontweight='bold',color='maroon')\n",
    "fig.text(0.78, 0.81, 'Slope:-0.018', ha='left',size=9,fontweight='bold',color='darkblue')\n",
    "fig.text(0.78, 0.79, 'Slope:0.028', ha='left',size=9,fontweight='bold',color='crimson')\n",
    "fig.text(0.78, 0.77, 'Slope:-0.01', ha='left',size=9,fontweight='bold',color='tomato')\n",
    "fig.text(0.78, 0.75, 'Slope:-0.004', ha='left',size=9,fontweight='bold',color='teal')\n",
    "fig.text(0.78, 0.73, 'Slope:-0.001', ha='left',size=9,fontweight='bold',color='darksalmon')\n",
    "fig.text(0.78, 0.71, 'Slope:-0.088', ha='left',size=9,fontweight='bold',color='dimgrey')\n",
    "fig.text(0.78, 0.69, 'Slope:-0.012', ha='left',size=9,fontweight='bold',color='goldenrod')\n",
    "\n",
    "plt.xlim(-2,2.6)\n",
    "\n",
    "fig.text(0.02, 0.5, 'Cloud Cover Anomalies ----->', va='center', rotation='vertical',size=12,fontweight='bold')\n",
    "fig.text(0.5, 0.04, 'Nino 3.4 Index----->', ha='center',size=12,fontweight='bold')\n",
    "plt.title('Tropical average',fontweight='bold')\n",
    "\n",
    "#plt.savefig('rep11',dpi=300, bbox_inches='tight')"
   ]
  },
  {
   "cell_type": "code",
   "execution_count": 17,
   "metadata": {},
   "outputs": [],
   "source": [
    "def linear_regression(x,y):\n",
    "    slope, intercept, rvalue, pvalue, stderr = linregress(x,y)\n",
    "    return [slope,rvalue,pvalue,stderr]\n"
   ]
  },
  {
   "cell_type": "code",
   "execution_count": 18,
   "metadata": {},
   "outputs": [
    {
     "data": {
      "text/plain": [
       "[0.028152432870226732,\n",
       " 0.1374151406753567,\n",
       " 0.5866208805430874,\n",
       " 0.05073197518995345]"
      ]
     },
     "execution_count": 18,
     "metadata": {},
     "output_type": "execute_result"
    }
   ],
   "source": [
    "linear_regression(nino,C1)"
   ]
  },
  {
   "cell_type": "code",
   "execution_count": 19,
   "metadata": {},
   "outputs": [
    {
     "data": {
      "text/plain": [
       "[-0.11782984690837799,\n",
       " -0.7935176995935656,\n",
       " 8.491163707728459e-05,\n",
       " 0.022590869787353654]"
      ]
     },
     "execution_count": 19,
     "metadata": {},
     "output_type": "execute_result"
    }
   ],
   "source": [
    "linear_regression(nino,C2)"
   ]
  },
  {
   "cell_type": "code",
   "execution_count": 20,
   "metadata": {},
   "outputs": [
    {
     "data": {
      "text/plain": [
       "[-0.01758841654234772,\n",
       " -0.3902345588056813,\n",
       " 0.10937738515712632,\n",
       " 0.010374483087492635]"
      ]
     },
     "execution_count": 20,
     "metadata": {},
     "output_type": "execute_result"
    }
   ],
   "source": [
    "linear_regression(nino,C3)"
   ]
  },
  {
   "cell_type": "code",
   "execution_count": 21,
   "metadata": {},
   "outputs": [
    {
     "data": {
      "text/plain": [
       "[0.027668657383619996,\n",
       " 0.33696333372130666,\n",
       " 0.1715097537218118,\n",
       " 0.019327423787031898]"
      ]
     },
     "execution_count": 21,
     "metadata": {},
     "output_type": "execute_result"
    }
   ],
   "source": [
    "linear_regression(nino,C4)"
   ]
  },
  {
   "cell_type": "code",
   "execution_count": 22,
   "metadata": {},
   "outputs": [
    {
     "data": {
      "text/plain": [
       "[-0.009531079622486394,\n",
       " -0.09672231308189048,\n",
       " 0.7026133242472599,\n",
       " 0.024519658271811087]"
      ]
     },
     "execution_count": 22,
     "metadata": {},
     "output_type": "execute_result"
    }
   ],
   "source": [
    "linear_regression(nino,C5)"
   ]
  },
  {
   "cell_type": "code",
   "execution_count": 23,
   "metadata": {},
   "outputs": [
    {
     "data": {
      "text/plain": [
       "[-0.004003936800219238,\n",
       " -0.12645341442087707,\n",
       " 0.6170780745850768,\n",
       " 0.00785228972244279]"
      ]
     },
     "execution_count": 23,
     "metadata": {},
     "output_type": "execute_result"
    }
   ],
   "source": [
    "linear_regression(nino,C6)"
   ]
  },
  {
   "cell_type": "code",
   "execution_count": 24,
   "metadata": {},
   "outputs": [
    {
     "data": {
      "text/plain": [
       "[-0.0007446740312404326,\n",
       " -0.004981857138997036,\n",
       " 0.9843474637429371,\n",
       " 0.03736883502532799]"
      ]
     },
     "execution_count": 24,
     "metadata": {},
     "output_type": "execute_result"
    }
   ],
   "source": [
    "linear_regression(nino,C7)"
   ]
  },
  {
   "cell_type": "code",
   "execution_count": 25,
   "metadata": {},
   "outputs": [
    {
     "data": {
      "text/plain": [
       "[-0.08753508513226362,\n",
       " -0.28374135131918354,\n",
       " 0.2538548438424034,\n",
       " 0.0739559702836138]"
      ]
     },
     "execution_count": 25,
     "metadata": {},
     "output_type": "execute_result"
    }
   ],
   "source": [
    "linear_regression(nino,C8)"
   ]
  },
  {
   "cell_type": "code",
   "execution_count": 26,
   "metadata": {},
   "outputs": [
    {
     "data": {
      "text/plain": [
       "[-0.012469504797920979,\n",
       " -0.42973796034420975,\n",
       " 0.07509525258673125,\n",
       " 0.006550145583201517]"
      ]
     },
     "execution_count": 26,
     "metadata": {},
     "output_type": "execute_result"
    }
   ],
   "source": [
    "linear_regression(nino,C9)"
   ]
  },
  {
   "cell_type": "code",
   "execution_count": null,
   "metadata": {},
   "outputs": [],
   "source": []
  },
  {
   "cell_type": "code",
   "execution_count": null,
   "metadata": {},
   "outputs": [],
   "source": []
  },
  {
   "cell_type": "code",
   "execution_count": null,
   "metadata": {},
   "outputs": [],
   "source": []
  },
  {
   "cell_type": "code",
   "execution_count": null,
   "metadata": {},
   "outputs": [],
   "source": []
  },
  {
   "cell_type": "code",
   "execution_count": null,
   "metadata": {},
   "outputs": [],
   "source": []
  },
  {
   "cell_type": "code",
   "execution_count": null,
   "metadata": {},
   "outputs": [],
   "source": []
  },
  {
   "cell_type": "code",
   "execution_count": null,
   "metadata": {},
   "outputs": [],
   "source": []
  },
  {
   "cell_type": "code",
   "execution_count": null,
   "metadata": {},
   "outputs": [],
   "source": []
  },
  {
   "cell_type": "code",
   "execution_count": null,
   "metadata": {},
   "outputs": [],
   "source": []
  }
 ],
 "metadata": {
  "hide_input": false,
  "kernelspec": {
   "display_name": "Python 3",
   "language": "python",
   "name": "python3"
  },
  "language_info": {
   "codemirror_mode": {
    "name": "ipython",
    "version": 3
   },
   "file_extension": ".py",
   "mimetype": "text/x-python",
   "name": "python",
   "nbconvert_exporter": "python",
   "pygments_lexer": "ipython3",
   "version": "3.7.6"
  },
  "varInspector": {
   "cols": {
    "lenName": 16,
    "lenType": 16,
    "lenVar": 40
   },
   "kernels_config": {
    "python": {
     "delete_cmd_postfix": "",
     "delete_cmd_prefix": "del ",
     "library": "var_list.py",
     "varRefreshCmd": "print(var_dic_list())"
    },
    "r": {
     "delete_cmd_postfix": ") ",
     "delete_cmd_prefix": "rm(",
     "library": "var_list.r",
     "varRefreshCmd": "cat(var_dic_list()) "
    }
   },
   "types_to_exclude": [
    "module",
    "function",
    "builtin_function_or_method",
    "instance",
    "_Feature"
   ],
   "window_display": false
  }
 },
 "nbformat": 4,
 "nbformat_minor": 4
}
